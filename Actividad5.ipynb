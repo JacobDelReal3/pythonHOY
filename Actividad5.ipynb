{
  "nbformat": 4,
  "nbformat_minor": 0,
  "metadata": {
    "colab": {
      "provenance": [],
      "authorship_tag": "ABX9TyNocutez2RhdIN1JV00j5TN",
      "include_colab_link": true
    },
    "kernelspec": {
      "name": "python3",
      "display_name": "Python 3"
    },
    "language_info": {
      "name": "python"
    }
  },
  "cells": [
    {
      "cell_type": "markdown",
      "metadata": {
        "id": "view-in-github",
        "colab_type": "text"
      },
      "source": [
        "<a href=\"https://colab.research.google.com/github/JacobDelReal3/pythonHOY/blob/main/Actividad5.ipynb\" target=\"_parent\"><img src=\"https://colab.research.google.com/assets/colab-badge.svg\" alt=\"Open In Colab\"/></a>"
      ]
    },
    {
      "cell_type": "markdown",
      "source": [
        "1.- Programa en Python que genere 40 números aleatorios entre el 0 y 200, desplegar los números y la leyenda de cada número si es par o impar , la cantidad de los números pares e impares así como la suma de los números pares o impares."
      ],
      "metadata": {
        "id": "VXmqQS0JI7yQ"
      }
    },
    {
      "cell_type": "code",
      "source": [
        "sumpares = 0\n",
        "sumimpares = 0\n",
        "contpares = 0\n",
        "contimpares = 0\n",
        "num2 = []\n",
        "for i in range(40):\n",
        "            num2.append(random.randint(0, 200))\n",
        "for num in num2:\n",
        "    if num % 1 == 0:\n",
        "              print(num, \"Es impar \")\n",
        "              contimpares += 1\n",
        "              sumimpares += num\n",
        "    elif num % 2 == 0:\n",
        "              print(num, \"Es par \")\n",
        "              contpares += 1\n",
        "              sumpares += num\n",
        "print(\"Total de numeros pares: \", contpares)\n",
        "print(\"Total de numeros impares \", contimpares)\n",
        "print(\"Suma de pares: \", sumpares)\n",
        "print(\"Suma de impares \", sumimpares)"
      ],
      "metadata": {
        "colab": {
          "base_uri": "https://localhost:8080/"
        },
        "id": "cPuwU657gVRu",
        "outputId": "054b7c5e-1ce9-4652-9638-8270cc5c21bf"
      },
      "execution_count": null,
      "outputs": [
        {
          "output_type": "stream",
          "name": "stdout",
          "text": [
            "182 Es impar \n",
            "69 Es impar \n",
            "137 Es impar \n",
            "193 Es impar \n",
            "62 Es impar \n",
            "38 Es impar \n",
            "177 Es impar \n",
            "83 Es impar \n",
            "135 Es impar \n",
            "66 Es impar \n",
            "168 Es impar \n",
            "33 Es impar \n",
            "71 Es impar \n",
            "76 Es impar \n",
            "111 Es impar \n",
            "113 Es impar \n",
            "177 Es impar \n",
            "103 Es impar \n",
            "86 Es impar \n",
            "152 Es impar \n",
            "120 Es impar \n",
            "92 Es impar \n",
            "44 Es impar \n",
            "155 Es impar \n",
            "172 Es impar \n",
            "78 Es impar \n",
            "193 Es impar \n",
            "137 Es impar \n",
            "90 Es impar \n",
            "162 Es impar \n",
            "77 Es impar \n",
            "45 Es impar \n",
            "166 Es impar \n",
            "140 Es impar \n",
            "95 Es impar \n",
            "87 Es impar \n",
            "141 Es impar \n",
            "145 Es impar \n",
            "22 Es impar \n",
            "77 Es impar \n",
            "Total de numeros pares:  0\n",
            "Total de numeros impares  40\n",
            "Suma de pares:  0\n",
            "Suma de impares  4470\n"
          ]
        }
      ]
    },
    {
      "cell_type": "markdown",
      "source": [
        "2.- Programa en Python que despliegue la tabla de multiplicar de un número dado (número entre el 1 y 20)."
      ],
      "metadata": {
        "id": "tAYBgoLZWTem"
      }
    },
    {
      "cell_type": "code",
      "source": [
        "n = int(input(\"entre el 1 y 20 = \"))\n",
        "if (n < 1) or (n > 20):\n",
        "    print(\" no esta en el rango\")\n",
        "else:\n",
        "    for i in range(1, 11):\n",
        "        print(n, \"x\", i, \"=\", n*i)\n"
      ],
      "metadata": {
        "colab": {
          "base_uri": "https://localhost:8080/"
        },
        "id": "QbpaW92CWTHt",
        "outputId": "1720f72f-a275-42b6-c92f-436caa3fc936"
      },
      "execution_count": null,
      "outputs": [
        {
          "output_type": "stream",
          "name": "stdout",
          "text": [
            "entre el 1 y 20 = 10\n",
            "10 x 1 = 10\n",
            "10 x 2 = 20\n",
            "10 x 3 = 30\n",
            "10 x 4 = 40\n",
            "10 x 5 = 50\n",
            "10 x 6 = 60\n",
            "10 x 7 = 70\n",
            "10 x 8 = 80\n",
            "10 x 9 = 90\n",
            "10 x 10 = 100\n"
          ]
        }
      ]
    },
    {
      "cell_type": "markdown",
      "source": [
        "3.- Programa en Python que lea una calificación, las calificación deberá estar en el rango de 0 a 100, si hay un error de captura, mostrar mensaje de error. con la calificación correcta mostrar msg de aprobado reprobado. "
      ],
      "metadata": {
        "id": "P2rOpxn-ef97"
      }
    },
    {
      "cell_type": "code",
      "source": [
        "n = int(input(\"entre el 0 y 100 \"))\n",
        "if  n >= 60 :\n",
        "    print(\"APROVADO\")\n",
        "if  n <  60 :\n",
        "    print(\"REPROVADO\")\n",
        "elif (n < 0) or (n > 100):\n",
        "    print(\"es un error\")"
      ],
      "metadata": {
        "colab": {
          "base_uri": "https://localhost:8080/"
        },
        "id": "FytV5s3zen2y",
        "outputId": "0b60add4-d70e-4797-cdc5-d3dec58704f1"
      },
      "execution_count": null,
      "outputs": [
        {
          "output_type": "stream",
          "name": "stdout",
          "text": [
            "entre el 0 y 100 80\n",
            "APROVADO\n"
          ]
        }
      ]
    },
    {
      "cell_type": "markdown",
      "source": [],
      "metadata": {
        "id": "iq5Qs7sQn6zC"
      }
    },
    {
      "cell_type": "markdown",
      "source": [
        "4.- Programa en Python que lea n cantidad de números enteros dentro de un rango dado (> 0 ) , el programa deberá terminar cuando el usuario introduzca el número cero.\n",
        "\n",
        "desplegar la suma de números y la media."
      ],
      "metadata": {
        "id": "H9fBJvTJgNx5"
      }
    },
    {
      "cell_type": "code",
      "source": [
        "n = int(input(\"dame un numero \"))\n",
        "if (n <= 0):\n",
        "    print(\" debe ser un rango mas grande\")\n",
        "else: \n",
        "    suma = 0n\n",
        "    for i in range(n):\n",
        "        numero = int(input(\"dame un numero \"))\n",
        "        if numero <= 0:\n",
        "            break\n",
        "        suma += numero\n",
        "    if (suma < 0) :\n",
        "       print(\" debe ser mas grande\")\n",
        "    else:\n",
        "        print(\"la suma  es\", suma)\n",
        "        print(\"la media es\", (suma / i))"
      ],
      "metadata": {
        "colab": {
          "base_uri": "https://localhost:8080/"
        },
        "id": "qt85uMyjgQsv",
        "outputId": "82461c40-cc15-45de-b8ee-5d4b3162ca8a"
      },
      "execution_count": null,
      "outputs": [
        {
          "output_type": "stream",
          "name": "stdout",
          "text": [
            "dame un numero 3\n",
            "dame un numero 10\n",
            "dame un numero 10\n",
            "dame un numero 10\n",
            "la suma  es 30\n",
            "la media es 15.0\n"
          ]
        }
      ]
    },
    {
      "cell_type": "markdown",
      "source": [
        "5.- Programa en Python que sirva para leer el promedio de una materia. donde el usuario tendrá un máximo de 3 oportunidades de cursar la materia, si el promedio es aprobado, felicitarlo y continuar el siguiente semestre, si promedio es reprobado deberá salir mensaje de repetir materia o es baja académica si ha reprobado 3 veces. "
      ],
      "metadata": {
        "id": "1C75ivxVmKSY"
      }
    },
    {
      "cell_type": "code",
      "source": [
        "cal1 = 60\n",
        "op2 = 1\n",
        "prom = int(input(\"PROMEDIO \"))\n",
        "while (prom < cal1 and op2 < 3):\n",
        "    print(\"REPETIR \")\n",
        "    op2 += 1\n",
        "    prom = int(input(\"NUEVO PROMEDIO \"))\n",
        "if  prom < cal1:\n",
        "    print(\"REPROBADO \")\n",
        "    if op2 == 3:\n",
        "     print(\"BAJA ACADEMICA \")\n",
        "else:\n",
        "    print(\"APROVADO pasas al siguiente semestre FELICIDADES \")"
      ],
      "metadata": {
        "colab": {
          "base_uri": "https://localhost:8080/"
        },
        "id": "zqUnEuTmlKKx",
        "outputId": "f330dd6f-fb9d-46bd-fa93-4704c2756bdc"
      },
      "execution_count": null,
      "outputs": [
        {
          "output_type": "stream",
          "name": "stdout",
          "text": [
            "PROMEDIO 90\n",
            "APROVADO pasas al siguiente semestre FELICIDADES \n"
          ]
        }
      ]
    },
    {
      "cell_type": "markdown",
      "source": [
        "PARTE 2:"
      ],
      "metadata": {
        "id": "nmaHyOqZ1Y60"
      }
    },
    {
      "cell_type": "markdown",
      "source": [
        "1.- función que lea n cantidad de números hasta que el usuario lo desee, desplegar la suma de los números, media y valor de los números mayores y menores."
      ],
      "metadata": {
        "id": "2sJ5SB1r1iG6"
      }
    },
    {
      "cell_type": "code",
      "source": [
        "def funcion1():\n",
        "    num = []\n",
        "    continuar = True\n",
        "    while continuar:\n",
        "        numero = int(input(\"Dame un numero\"))\n",
        "        num.append(numero)\n",
        "        respuesta = input(\"precione s para continuar o n para abortar \")\n",
        "        if respuesta == 'n':\n",
        "            continuar = False\n",
        "            media = suma / len(num)\n",
        "            print(\"el numero mayor es\", max(num))\n",
        "            print(\"el numero menor es\", min(num))\n",
        "            print(\"la suma es \",sum(num))\n",
        "            print(\"la media es\",suma / len(num))\n",
        "        else:\n",
        "            print(\"elige solo las opciones\")"
      ],
      "metadata": {
        "id": "GCYnLCRhHFdK"
      },
      "execution_count": null,
      "outputs": []
    },
    {
      "cell_type": "code",
      "source": [
        "funcion1()"
      ],
      "metadata": {
        "colab": {
          "base_uri": "https://localhost:8080/",
          "height": 426
        },
        "id": "vs77nLILHWKQ",
        "outputId": "5399f4de-8035-4ca2-9f83-8734094b57fc"
      },
      "execution_count": null,
      "outputs": [
        {
          "name": "stdout",
          "output_type": "stream",
          "text": [
            "Dame un numero2\n",
            "precione s para continuar o n para abortar s\n",
            "elige solo las opciones\n",
            "Dame un numero50\n",
            "precione s para continuar o n para abortar s\n",
            "elige solo las opciones\n",
            "Dame un numero40\n",
            "precione s para continuar o n para abortar n\n"
          ]
        },
        {
          "output_type": "error",
          "ename": "NameError",
          "evalue": "ignored",
          "traceback": [
            "\u001b[0;31m---------------------------------------------------------------------------\u001b[0m",
            "\u001b[0;31mNameError\u001b[0m                                 Traceback (most recent call last)",
            "\u001b[0;32m<ipython-input-3-7b85191f1c86>\u001b[0m in \u001b[0;36m<module>\u001b[0;34m\u001b[0m\n\u001b[0;32m----> 1\u001b[0;31m \u001b[0mfuncion1\u001b[0m\u001b[0;34m(\u001b[0m\u001b[0;34m)\u001b[0m\u001b[0;34m\u001b[0m\u001b[0;34m\u001b[0m\u001b[0m\n\u001b[0m",
            "\u001b[0;32m<ipython-input-2-45da8c038bd2>\u001b[0m in \u001b[0;36mfuncion1\u001b[0;34m()\u001b[0m\n\u001b[1;32m      8\u001b[0m         \u001b[0;32mif\u001b[0m \u001b[0mrespuesta\u001b[0m \u001b[0;34m==\u001b[0m \u001b[0;34m'n'\u001b[0m\u001b[0;34m:\u001b[0m\u001b[0;34m\u001b[0m\u001b[0;34m\u001b[0m\u001b[0m\n\u001b[1;32m      9\u001b[0m             \u001b[0mcontinuar\u001b[0m \u001b[0;34m=\u001b[0m \u001b[0;32mFalse\u001b[0m\u001b[0;34m\u001b[0m\u001b[0;34m\u001b[0m\u001b[0m\n\u001b[0;32m---> 10\u001b[0;31m             \u001b[0mmedia\u001b[0m \u001b[0;34m=\u001b[0m \u001b[0msuma\u001b[0m \u001b[0;34m/\u001b[0m \u001b[0mlen\u001b[0m\u001b[0;34m(\u001b[0m\u001b[0mnum\u001b[0m\u001b[0;34m)\u001b[0m\u001b[0;34m\u001b[0m\u001b[0;34m\u001b[0m\u001b[0m\n\u001b[0m\u001b[1;32m     11\u001b[0m             \u001b[0mprint\u001b[0m\u001b[0;34m(\u001b[0m\u001b[0;34m\"el numero mayor es\"\u001b[0m\u001b[0;34m,\u001b[0m \u001b[0mmax\u001b[0m\u001b[0;34m(\u001b[0m\u001b[0mnum\u001b[0m\u001b[0;34m)\u001b[0m\u001b[0;34m)\u001b[0m\u001b[0;34m\u001b[0m\u001b[0;34m\u001b[0m\u001b[0m\n\u001b[1;32m     12\u001b[0m             \u001b[0mprint\u001b[0m\u001b[0;34m(\u001b[0m\u001b[0;34m\"el numero menor es\"\u001b[0m\u001b[0;34m,\u001b[0m \u001b[0mmin\u001b[0m\u001b[0;34m(\u001b[0m\u001b[0mnum\u001b[0m\u001b[0;34m)\u001b[0m\u001b[0;34m)\u001b[0m\u001b[0;34m\u001b[0m\u001b[0;34m\u001b[0m\u001b[0m\n",
            "\u001b[0;31mNameError\u001b[0m: name 'suma' is not defined"
          ]
        }
      ]
    },
    {
      "cell_type": "markdown",
      "source": [
        "2.- función que genere 15 números impares entre 10 y 60 o máximo de 25 números. desplegar la media de los pares y media de impares.\n",
        "\n"
      ],
      "metadata": {
        "id": "AlveY8d9DPpK"
      }
    },
    {
      "cell_type": "code",
      "source": [
        "def funcion2():\n",
        "    impar = []\n",
        "    par = []\n",
        "    maxi = 0\n",
        "    while maxi <= 25 and len(impar) <= 15 :\n",
        "        num = random.randint(10,60)\n",
        "        if num % 2 != 0:\n",
        "            impar.append(num)\n",
        "        else:\n",
        "            par.append(num)\n",
        "        maxi += 1\n",
        "    print(\"los pares son  \",*par,sep = \"\\n\")\n",
        "    print(\"los impares son\",*impar,sep = \"\\n\")\n",
        "    print(\"media de los impares es: \", (sum(impar) / len(impar)))\n",
        "    print(\"media de los pares es: \", (sum(par) / len(par)))"
      ],
      "metadata": {
        "id": "uYUAxhkiDTY9"
      },
      "execution_count": null,
      "outputs": []
    },
    {
      "cell_type": "code",
      "source": [
        "funcion2()"
      ],
      "metadata": {
        "colab": {
          "base_uri": "https://localhost:8080/",
          "height": 287
        },
        "id": "eioFWrOZIwCU",
        "outputId": "e648d406-e9fb-4de7-adab-be7da1fb0770"
      },
      "execution_count": null,
      "outputs": [
        {
          "output_type": "error",
          "ename": "NameError",
          "evalue": "ignored",
          "traceback": [
            "\u001b[0;31m---------------------------------------------------------------------------\u001b[0m",
            "\u001b[0;31mNameError\u001b[0m                                 Traceback (most recent call last)",
            "\u001b[0;32m<ipython-input-5-af158c8fac02>\u001b[0m in \u001b[0;36m<module>\u001b[0;34m\u001b[0m\n\u001b[0;32m----> 1\u001b[0;31m \u001b[0mfuncion2\u001b[0m\u001b[0;34m(\u001b[0m\u001b[0;34m)\u001b[0m\u001b[0;34m\u001b[0m\u001b[0;34m\u001b[0m\u001b[0m\n\u001b[0m",
            "\u001b[0;32m<ipython-input-4-13b740e59a86>\u001b[0m in \u001b[0;36mfuncion2\u001b[0;34m()\u001b[0m\n\u001b[1;32m      4\u001b[0m     \u001b[0mmaxi\u001b[0m \u001b[0;34m=\u001b[0m \u001b[0;36m0\u001b[0m\u001b[0;34m\u001b[0m\u001b[0;34m\u001b[0m\u001b[0m\n\u001b[1;32m      5\u001b[0m     \u001b[0;32mwhile\u001b[0m \u001b[0mmaxi\u001b[0m \u001b[0;34m<=\u001b[0m \u001b[0;36m25\u001b[0m \u001b[0;32mand\u001b[0m \u001b[0mlen\u001b[0m\u001b[0;34m(\u001b[0m\u001b[0mimpar\u001b[0m\u001b[0;34m)\u001b[0m \u001b[0;34m<=\u001b[0m \u001b[0;36m15\u001b[0m \u001b[0;34m:\u001b[0m\u001b[0;34m\u001b[0m\u001b[0;34m\u001b[0m\u001b[0m\n\u001b[0;32m----> 6\u001b[0;31m         \u001b[0mnum\u001b[0m \u001b[0;34m=\u001b[0m \u001b[0mrandom\u001b[0m\u001b[0;34m.\u001b[0m\u001b[0mrandint\u001b[0m\u001b[0;34m(\u001b[0m\u001b[0;36m10\u001b[0m\u001b[0;34m,\u001b[0m\u001b[0;36m60\u001b[0m\u001b[0;34m)\u001b[0m\u001b[0;34m\u001b[0m\u001b[0;34m\u001b[0m\u001b[0m\n\u001b[0m\u001b[1;32m      7\u001b[0m         \u001b[0;32mif\u001b[0m \u001b[0mnum\u001b[0m \u001b[0;34m%\u001b[0m \u001b[0;36m2\u001b[0m \u001b[0;34m!=\u001b[0m \u001b[0;36m0\u001b[0m\u001b[0;34m:\u001b[0m\u001b[0;34m\u001b[0m\u001b[0;34m\u001b[0m\u001b[0m\n\u001b[1;32m      8\u001b[0m             \u001b[0mimpar\u001b[0m\u001b[0;34m.\u001b[0m\u001b[0mappend\u001b[0m\u001b[0;34m(\u001b[0m\u001b[0mnum\u001b[0m\u001b[0;34m)\u001b[0m\u001b[0;34m\u001b[0m\u001b[0;34m\u001b[0m\u001b[0m\n",
            "\u001b[0;31mNameError\u001b[0m: name 'random' is not defined"
          ]
        }
      ]
    },
    {
      "cell_type": "markdown",
      "source": [
        "3.- función que sirva para leer y validar un número dentro de un rango dado por el usuario. repetir esta acción hasta que el usuario lo desee, desplegar cantidad de números y promedio de los números.."
      ],
      "metadata": {
        "id": "qXKR1WjGDjca"
      }
    },
    {
      "cell_type": "code",
      "source": [
        "def funcion3():\n",
        "    num2 = []\n",
        "    while True:\n",
        "        try:\n",
        "            rango1 = float(input(\"limite inferior del rango: \"))\n",
        "            rango2 = float(input(\"limite superior del rango: \"))\n",
        "            num = float(input(\"numero dentro en el rango     \"))\n",
        "            if num>= rango1 and num <= rango2:\n",
        "                num2.append(num)\n",
        "            else:\n",
        "                print(f\"{num} no esta en el rango \")\n",
        "            continuar = input(\"precione s para continuar o n para abortar \")\n",
        "            if continuar == 'n':\n",
        "                break\n",
        "        except ValueError:\n",
        "            print(\"lo has puesto incorrecto\")\n",
        "    num3 = len(num2)\n",
        "    num4 = sum(num2) / num3\n",
        "    print(\"Cantidad de numeros ingresados: \", num3)\n",
        "    print(\"Promedio de los numeros ingresados: \", num4)"
      ],
      "metadata": {
        "id": "J9Ayj6WdDmBY"
      },
      "execution_count": null,
      "outputs": []
    },
    {
      "cell_type": "code",
      "source": [
        "funcion3()"
      ],
      "metadata": {
        "colab": {
          "base_uri": "https://localhost:8080/"
        },
        "id": "9QrfVAbTGKOn",
        "outputId": "7011a3ac-a2fd-4349-d1d5-693da9772d1f"
      },
      "execution_count": null,
      "outputs": [
        {
          "output_type": "stream",
          "name": "stdout",
          "text": [
            "limite inferior del rango: 20\n",
            "limite superior del rango: 35\n",
            "numero dentro en el rango     30\n",
            "precione s para continuar o n para abortar n\n",
            "Cantidad de numeros ingresados:  1\n",
            "Promedio de los numeros ingresados:  30.0\n"
          ]
        }
      ]
    },
    {
      "cell_type": "markdown",
      "source": [
        "4.- función que reciba como parámetro los valores para el área de un triángulo y retorne su resultado"
      ],
      "metadata": {
        "id": "C7D8YaTkDtjx"
      }
    },
    {
      "cell_type": "code",
      "source": [
        "def funcion4(b, a):\n",
        "    areaT = (b * a) / 2\n",
        "    return areaT\n",
        "areaT = funcion4(90, 9)"
      ],
      "metadata": {
        "id": "sCoRageIDsP5"
      },
      "execution_count": null,
      "outputs": []
    },
    {
      "cell_type": "code",
      "source": [
        "print(areaT) "
      ],
      "metadata": {
        "colab": {
          "base_uri": "https://localhost:8080/"
        },
        "id": "0Zsi0RqvJNMz",
        "outputId": "c651ca5b-9aac-4d9a-8d9d-aca8f6692074"
      },
      "execution_count": null,
      "outputs": [
        {
          "output_type": "stream",
          "name": "stdout",
          "text": [
            "405.0\n"
          ]
        }
      ]
    },
    {
      "cell_type": "markdown",
      "source": [
        "5.- función que sirva para validar un número dentro de un rango dado."
      ],
      "metadata": {
        "id": "l6NtB4SPDxy_"
      }
    },
    {
      "cell_type": "code",
      "source": [
        "def funcion5(numero, r1, r2):\n",
        "    if numero >= r1 and numero <= r2:\n",
        "        return True\n",
        "    else:\n",
        "        return False\n",
        "validar = funcion5(4,2,6)"
      ],
      "metadata": {
        "id": "Eq5PDTSgD0xQ"
      },
      "execution_count": null,
      "outputs": []
    },
    {
      "cell_type": "code",
      "source": [
        "print(validar)"
      ],
      "metadata": {
        "colab": {
          "base_uri": "https://localhost:8080/"
        },
        "id": "xJPxAwV3bHTg",
        "outputId": "71b30e5c-2792-49c6-c850-4eff6298a22e"
      },
      "execution_count": null,
      "outputs": [
        {
          "output_type": "stream",
          "name": "stdout",
          "text": [
            "True\n"
          ]
        }
      ]
    }
  ]
}