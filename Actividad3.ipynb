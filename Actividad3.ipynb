{
  "nbformat": 4,
  "nbformat_minor": 0,
  "metadata": {
    "colab": {
      "provenance": [],
      "authorship_tag": "ABX9TyNtlsCqUIPGER246MVZmaI8",
      "include_colab_link": true
    },
    "kernelspec": {
      "name": "python3",
      "display_name": "Python 3"
    },
    "language_info": {
      "name": "python"
    }
  },
  "cells": [
    {
      "cell_type": "markdown",
      "metadata": {
        "id": "view-in-github",
        "colab_type": "text"
      },
      "source": [
        "<a href=\"https://colab.research.google.com/github/JacobDelReal3/pythonHOY/blob/main/Actividad3.ipynb\" target=\"_parent\"><img src=\"https://colab.research.google.com/assets/colab-badge.svg\" alt=\"Open In Colab\"/></a>"
      ]
    },
    {
      "cell_type": "markdown",
      "source": [
        "ACTIVIDAD 3\n",
        "REALIZA LOS SIGUIENTES EJERCICIOS USANDO LA FORMA ADECUADA Y OPTIMIZANDO LOS PROCESOS USANDO EL CONTROL DE FLUJO DE MANERA MAS ADECUADA\n",
        "\n"
      ],
      "metadata": {
        "id": "Epk8uB9_AjCT"
      }
    },
    {
      "cell_type": "markdown",
      "source": [
        "1.- Algoritmo que lea 3 calificaciones calcule el promedio del alumno y desplegar: \n",
        "Si prom < 30 Repetir \n",
        "Si prom >=30 y prom <60 extraordinario \n",
        "Si prom >=60 y prom <70 suficiente \n",
        "Si prom >=70 y prom <80 Regular \n",
        "Si prom >=80 y prom <90 bien \n",
        "Si prom >=90 y prom <98 muy bien \n",
        "Si prom >=98 y prom <=100 excelente \n",
        "Si prom >100 Error en promedio \n",
        "Realizar el algoritmo optimizado"
      ],
      "metadata": {
        "id": "H3tQ0GfGAme8"
      }
    },
    {
      "cell_type": "code",
      "source": [
        "C1 = int(input(\"primera calificacion \")) \n",
        "C2 = int(input(\"segunda calificacion \"))\n",
        "C3 = int(input(\"tercera calificacion \")) \n",
        "C4 = int(input(\"cuarta calificaion \"))\n",
        "prom = (C1+C2+C3+C4)/4\n",
        "\n",
        "\n",
        "if prom >=98:\n",
        "  print(\"muy bien\")\n",
        "elif prom >=90:\n",
        "  print(\"muy bien\")\n",
        "elif prom >=80:\n",
        "  print(\"bien\")\n",
        "elif prom >=70:\n",
        "  print(\"Regular\")\n",
        "elif prom >=60:\n",
        "  print(\"suficiente\")\n",
        "elif prom >=30:\n",
        "  print(\"extraordinario\")\n",
        "elif prom < 30:\n",
        "  print(\"Repetir\")\n",
        "\n",
        "else:\n",
        "  print(\"ERROR\")\n"
      ],
      "metadata": {
        "colab": {
          "base_uri": "https://localhost:8080/"
        },
        "id": "HKBjFI9YBXtL",
        "outputId": "b9f50581-fc3f-41fc-c40b-133369836c2e"
      },
      "execution_count": null,
      "outputs": [
        {
          "output_type": "stream",
          "name": "stdout",
          "text": [
            "primera calificacion 30\n",
            "segunda calificacion 90\n",
            "tercera calificacion 70\n",
            "cuarta calificaion 80\n",
            "suficiente\n"
          ]
        }
      ]
    },
    {
      "cell_type": "markdown",
      "source": [
        "2.- Algoritmo que sirva para calcular el salario semanal de un trabajador donde se obtiene como dato de entrada las horas semanales trabajadas, el salario por hora. \n",
        "\n",
        "El programa deberá calcular el salario normal, salario extra y salario total, considerando lo siguiente: \n",
        "\n",
        "Jornada Normal de 40 horas. \n",
        "El salario normal se considera las horas trabajadas menores o igual a la jornada normal\n",
        "Salario extra se considera las horas trabajadas mayores a la jornada normal y se pagan dobles las primeras 9 y triples a partir de la décima hora extra \n",
        "\n",
        "\n",
        "Nota: Desplegar todos los datos (Salario x hora, Horas Trabajadas, Salario normal, Salario extra y Salario Total)"
      ],
      "metadata": {
        "id": "xHHAzeglHWEC"
      }
    },
    {
      "cell_type": "code",
      "source": [
        "sal  = int(input(\"cual es tu salario por hora?\"))\n",
        "hor  = int(input(\"cuales son tus horas trabajadas?\")) \n",
        "sal1 = sal * 9 * 5\n",
        "sal2 = sal * hor * 5\n",
        "sal3 = (sal2 - sal1)\n",
        "hora = hor * 5\n",
        "if hor >= 9:\n",
        "  print(\"su salario es en horas extras\")\n",
        "  print(\"horas Trabajadas\", hora)\n",
        "  print(\"Salario normal\",   sal1)\n",
        "  print(\"Salario extra\",    sal3)\n",
        "  print(\"salario total\",    sal2)\n",
        " \n",
        "else:\n",
        "  print(\"su salario es en horas normales\")\n",
        "  print(\"horas Trabajadas\", hora)\n",
        "  print(\"Salario normal\",   sal1)\n",
        "  print(\"salario total\",    sal2)\n",
        "\n",
        "\n"
      ],
      "metadata": {
        "id": "yxveIfOvHeHi",
        "colab": {
          "base_uri": "https://localhost:8080/"
        },
        "outputId": "e27cfb5a-8935-4b28-b55a-ed17c838e9d7"
      },
      "execution_count": null,
      "outputs": [
        {
          "output_type": "stream",
          "name": "stdout",
          "text": [
            "cual es tu salario por hora?200\n",
            "cuales son tus horas trabajadas?10\n",
            "su salario es en horas extras\n",
            "horas Trabajadas 50\n",
            "Salario normal 9000\n",
            "Salario extra 1000\n",
            "salario total 10000\n"
          ]
        }
      ]
    },
    {
      "cell_type": "markdown",
      "source": [
        "3.- Algoritmo que sirva para desplegar el Total de una llamada telefónica donde se pide como datos de entrada los minutos y el tipo de llamada, se cobra de la siguiente manera:\n",
        "\n",
        "1.- Llamada Local $3.00 sin límite de tiempo \n",
        "\n",
        "2.- Llamada Nacional $7.00 por los 3 primeros minutos y $2.00 minuto adicional \n",
        "\n",
        "3.- Llamada Internacional $9.00 por los 2 primeros minutos y $4.00 minuto adicional\n",
        "\n",
        " Desplegar, Subtotal,Iva (16%) y Total."
      ],
      "metadata": {
        "id": "1EbXymLxInZq"
      }
    },
    {
      "cell_type": "code",
      "source": [
        " print(\"Bienbenido a telefonos amigo, de telcel cambia te a movistar\")\n",
        " sal  = int(input(\"tenemos varias opciones elija (1. llamada local 3 pesos)-(2. Llamada Nacional 7:00 por 3 minutos y 2:00 por minuto adicional)-(3. Llamada Internacional 9:00 pesos y 4:00 por minuto adicional\"))\n",
        " sal1 = sal + 1 - 1\n",
        " \n",
        " if 1 == sal1:\n",
        "\n",
        "   iva  = 3 * 0.16\n",
        "   iva2 = 3 + iva\n",
        "   print(\"sub total\",   3)\n",
        "   print(\"iva\",       iva)\n",
        "   print(\"Total\",    iva2)\n",
        " \n",
        " elif sal1 == 2:\n",
        "   min  = int(input(\"Minutos\"))\n",
        "   precio1  = min - 3\n",
        "   precio2 = precio1 * 2\n",
        "   precio3 = precio2 + 7\n",
        "   iva  = precio3 * 0.16\n",
        "   iva2 = precio3 + iva\n",
        "   print(\"sub total\", precio3)\n",
        "   print(\"iva\",          iva)\n",
        "   print(\"Total\",       iva2)\n",
        " elif sal1 == 3:\n",
        "   min  = int(input(\"Minutos\"))\n",
        "   precio1  = min - 2\n",
        "   precio2 = precio1 * 4\n",
        "   precio3 = precio2 + 9\n",
        "   iva  = precio3 * 0.16\n",
        "   iva2 = precio3 + iva\n",
        "   print(\"sub total\", precio3)\n",
        "   print(\"iva\",          iva)\n",
        "   print(\"Total\",       iva2)\n",
        " else:\n",
        "    print(\"son solo 3 opciones\")"
      ],
      "metadata": {
        "colab": {
          "base_uri": "https://localhost:8080/"
        },
        "id": "jkOJWdA6NEG2",
        "outputId": "eae0cc9f-e313-4586-be7d-cb902939f820"
      },
      "execution_count": null,
      "outputs": [
        {
          "output_type": "stream",
          "name": "stdout",
          "text": [
            "Bienbenido a telefonos amigo, de telcel cambia te a movistar\n",
            "tenemos varias opciones elija (1. llamada local 3 pesos)-(2. Llamada Nacional 7:00 por 3 minutos y 2:00 por minuto adicional)-(3. Llamada Internacional 9:00 pesos y 4:00 por minuto adicional3\n",
            "Minutos10\n",
            "sub total 41\n",
            "iva 6.5600000000000005\n",
            "Total 47.56\n"
          ]
        }
      ]
    },
    {
      "cell_type": "markdown",
      "source": [
        "4.- Algoritmo que sirva para calcular el Total a pagar por consumo de agua, donde el dato de entrada son los M3 de agua consumidos, Tomar en cuenta que se cobra escalonada de la Siguiente manera: \n",
        "\n",
        "Rango1: 0 al 4 M3 $50 x facturación sin importar cuánto consumió en este rango \n",
        "\n",
        "Rango2: 5 a 15 M3 $8.00 x M3 \n",
        "\n",
        "Rango3: 16 a 50 M3 $10.00 x M3 \n",
        "\n",
        "Rango4: 51 M3 en adelante $11.00 x M3 \n",
        "\n",
        "Nota: Desplegar SubTotal, Iva(16%), y Total a pagar."
      ],
      "metadata": {
        "id": "ulK7Ws7ycPhU"
      }
    },
    {
      "cell_type": "code",
      "source": [
        " print(\"Pago de consumo de agua\")\n",
        " M3 = int(input(\"consumo\"))\n",
        "\n",
        " if M3 >= 51:\n",
        "  M4    = 11 * M3\n",
        "  Iva   = M4 * 0.16\n",
        "  Total = Iva + M4\n",
        "  print(\"Subtotal\",        M4)\n",
        "  print(\"Iva\",            Iva)\n",
        "  print(\"Total a pagar\",Total)\n",
        " elif M3 >=16:\n",
        "   M4    = 10 * M3\n",
        "   Iva   = M4 * 0.16\n",
        "   Total = Iva + M4\n",
        "   print(\"Subtotal\",        M4)\n",
        "   print(\"Iva\",            Iva)\n",
        "   print(\"Total a pagar\",Total)\n",
        " elif M3 >=5:\n",
        "   M4    = 8 * M3\n",
        "   Iva   = M4 * 0.16\n",
        "   Total = Iva + M4\n",
        "   print(\"Subtotal\",        M4)\n",
        "   print(\"Iva\",            Iva)\n",
        "   print(\"Total a pagar\",Total)\n",
        " elif M3 > 0:\n",
        "   M4    = 50 * M3\n",
        "   Iva   = M4 * 0.16\n",
        "   Total = Iva + M4\n",
        "   print(\"Subtotal\",        M4)\n",
        "   print(\"Iva\",            Iva)\n",
        "   print(\"Total a pagar\",Total)\n",
        " else:\n",
        "     print(\"ERROR\")  "
      ],
      "metadata": {
        "colab": {
          "base_uri": "https://localhost:8080/"
        },
        "id": "hrtpYYpncQpz",
        "outputId": "931893a4-611c-495a-b4e9-1648527a6f97"
      },
      "execution_count": null,
      "outputs": [
        {
          "output_type": "stream",
          "name": "stdout",
          "text": [
            "Pago de consumo de agua\n",
            "consumo16\n",
            "Subtotal 160\n",
            "Iva 25.6\n",
            "Total a pagar 185.6\n"
          ]
        }
      ]
    },
    {
      "cell_type": "markdown",
      "source": [
        "5- En la materia de Metodología de la programación se aplican 5 exámenes, calcular el promedio final de la materia donde la calificación menor de los exámenes se anula y el promedio se calcula en base a 4 exámenes.\n",
        "\n",
        "Desplegar el promedio final. "
      ],
      "metadata": {
        "id": "w7qG7K0tgYUE"
      }
    },
    {
      "cell_type": "code",
      "source": [
        "print(\"Calificaciones de promedio\")\n",
        "C1 = int(input(\"Calificacion 1\"))\n",
        "C2 = int(input(\"Calificacion 2\"))\n",
        "C3 = int(input(\"Calificacion 3\"))\n",
        "C4 = int(input(\"Calificacion 4\"))\n",
        "C5 = int(input(\"Calificacion 5\"))\n",
        "CT1 = (C1+C2+C3+C4+C5)/5\n",
        "if CT1 >= 60: \n",
        "    print(\"Tu promedio es\", CT1)\n",
        "else:\n",
        "    CT2 = (C1+C2+C3+C4)/4\n",
        "    print(\"Tu promedio es\", CT2)\n",
        "\n"
      ],
      "metadata": {
        "colab": {
          "base_uri": "https://localhost:8080/"
        },
        "id": "ZPoHBZnjgbUV",
        "outputId": "b6594370-c467-4f13-ebdf-485d3d28d8dc"
      },
      "execution_count": null,
      "outputs": [
        {
          "output_type": "stream",
          "name": "stdout",
          "text": [
            "Calificaciones de promedio\n",
            "Calificacion 160\n",
            "Calificacion 290\n",
            "Calificacion 340\n",
            "Calificacion 490\n",
            "Calificacion 590\n",
            "Tu promedio es 74.0\n"
          ]
        }
      ]
    },
    {
      "cell_type": "markdown",
      "source": [
        "6.- Algoritmo que sirva para el juego del CHINCHAMPU (Piedra, Papel, Tijera) para 1 jugador y la computadora, (usar condición anidada) "
      ],
      "metadata": {
        "id": "bUINerrJiftu"
      }
    },
    {
      "cell_type": "code",
      "source": [
        "print(\"Piedra papel o tijera \")\n",
        "C1 = int(input(\"recuerda 1. piedra, 2. papel, 3. tijera\"))\n",
        "\n",
        "if C1 == 1: \n",
        "    print(\"elegi papel , te gane\")\n",
        "elif C1 == 2:\n",
        "     print(\"elegi papel , quedamos empate\")\n",
        "elif C1 == 3:\n",
        "     print(\"elegi papel , me ganaste\")\n",
        "else:\n",
        "    print(\"estas haciendo trampa\")\n",
        "\n"
      ],
      "metadata": {
        "colab": {
          "base_uri": "https://localhost:8080/"
        },
        "id": "brzIBOvXikwA",
        "outputId": "39b4b727-b3ec-4e9a-ec20-2f52a80a1699"
      },
      "execution_count": null,
      "outputs": [
        {
          "output_type": "stream",
          "name": "stdout",
          "text": [
            "Piedra papel o tijera \n",
            "recuerda 1. piedra, 2. papel, 3. tijera3\n",
            "elegi papel , me ganaste\n"
          ]
        }
      ]
    },
    {
      "cell_type": "markdown",
      "source": [
        "7.- Algoritmo que sirva para el juego del CHINCHAMPU (Piedra, Papel, Tijera) para 1 jugador y la computadora, (usar selección múltiple) \n",
        "\n"
      ],
      "metadata": {
        "id": "WIbsj6I3lAwZ"
      }
    },
    {
      "cell_type": "code",
      "source": [
        "from IPython.core.display import clear_output\n",
        "import random\n",
        "print(\"1.- Piedra 2.- Papel 3.- Tijeras\")\n",
        "op = int(input(\"elige: \"))\n",
        "CPU = random.randint(1, 3)\n",
        "if op == 1:\n",
        "     if CPU == 1:\n",
        "        print(\"escogi piedra, es empate\")\n",
        "     elif CPU == 2:\n",
        "         print(\"escogi papel, perdiste\")\n",
        "     else:\n",
        "          print(\"escogi tijeras, ganaste\")\n",
        "elif op == 2:\n",
        "   if CPU == 1:\n",
        "      print(\"escogi piedra, ganaste\")\n",
        "   elif CPU == 2:\n",
        "       print(\"escogi papel, es empate\")\n",
        "   else:\n",
        "       print(\"escogi tijeras, perdiste\")\n",
        "elif op == 3:\n",
        "    if CPU == 1:\n",
        "       print(\"escogi piedra, perdiste\")\n",
        "    elif CPU == 2:\n",
        "       print(\" escogi papel ganaste\")\n",
        "    else:\n",
        "      print(\" escogi tijeras, quedo empate\")\n",
        "\n"
      ],
      "metadata": {
        "colab": {
          "base_uri": "https://localhost:8080/"
        },
        "id": "GbcDbL9hlJto",
        "outputId": "c47b7fc5-44d4-43a0-d3e2-2de3156c3aed"
      },
      "execution_count": null,
      "outputs": [
        {
          "output_type": "stream",
          "name": "stdout",
          "text": [
            "1.- Piedra 2.- Papel 3.- Tijeras\n",
            "elige: 1\n",
            "escogi piedra, es empate\n"
          ]
        }
      ]
    },
    {
      "cell_type": "markdown",
      "source": [
        "8.- Una tienda de electrónica ofrece descuentos a sus clientes, dependiendo del tipo de producto que compren. Si el cliente compra una computadora, tiene un descuento del 5% en el precio de la computadora y un 10% de descuento en una impresora si la compra junto con la computadora. Si el cliente compra una televisión, tiene un descuento del 7% en el precio de la televisión y un 15% de descuento en una barra de sonido si la compra junto con la televisión. Si el cliente compra una consola de videojuegos, tiene un descuento del 10% en el precio de la consola y un 20% de descuento en un juego si lo compra junto con la consola. Escribe un programa que calcule el precio a pagar por un cliente, tomando en cuenta los descuentos correspondientes.\n",
        "\n"
      ],
      "metadata": {
        "id": "TDYnHenqlKQA"
      }
    },
    {
      "cell_type": "code",
      "source": [
        "print(\"Tienda electronica\")\n",
        "print(\"presione 1 si o presione 0 si no \")\n",
        "C1 = int(input(\"llevara compu\"))\n",
        "C2 = int(input(\"llevara impresora\"))\n",
        "C3 = int(input(\"llevara television\"))\n",
        "C4 = int(input(\"llevara barra de sonicdo\"))\n",
        "C5 = int(input(\"llevara consola\"))\n",
        "C6 = int(input(\"llevara videojuego\"))\n",
        "\n",
        "if C1 == 1 and C2 == 1 and C3 == 1 and C4 == 1 and C5 == 1 and C6 == 1: \n",
        " print(\"se le aplicaran los siguientes descuentos\")\n",
        " print(\"7% computadora, 10% en una impresora, 7% en una television, 15% en barra de sonido, 10% en consola, 20% en juego\")\n",
        "elif C1 == 0 and C2 == 1 and C3 == 1 and C4 == 1 and C5 == 1 and C6 == 1: \n",
        " print(\"se le aplicaran los siguientes descuentos\")\n",
        " print(\"7% en una television, 15% en barra de sonido, 10% en consola, 20% en juego\")\n",
        "elif C1 == 1 and C2 == 0 and C3 == 1 and C4 == 1 and C5 == 1 and C6 == 1: \n",
        " print(\"se le aplicaran los siguientes descuentos\")\n",
        " print(\"7% computadora, 7% en una television, 15% en barra de sonido, 10% en consola, 20% en juego\")\n",
        "elif C1 == 1 and C2 == 1 and C3 == 0 and C4 == 1 and C5 == 1 and C6 == 1: \n",
        " print(\"se le aplicaran los siguientes descuentos\")\n",
        " print(\"7% computadora, 10% en una impresora, 10% en consola, 20% en juego\")\n",
        "elif C1 == 1 and C2 == 1 and C3 == 1 and C4 == 0 and C5 == 1 and C6 == 1: \n",
        " print(\"se le aplicaran los siguientes descuentos\")\n",
        " print(\"7% computadora, 10% en una impresora, 7% en una television, 10% en consola, 20% en juego\")\n",
        "elif C1 == 1 and C2 == 1 and C3 == 0 and C4 == 0 and C5 == 1 and C6 == 1: \n",
        " print(\"se le aplicaran los siguientes descuentos\")\n",
        " print(\"7% computadora, 10% en una impresora, 10% en consola, 20% en juego\")\n",
        "elif C1 == 1 and C2 == 1 and C3 == 1 and C4 == 1 and C5 == 1 and C6 == 0: \n",
        " print(\"se le aplicaran los siguientes descuentos\")\n",
        " print(\"7% computadora, 10% en una impresora, 7% en una television, 15% en barra de sonido, 10% en consola\")\n",
        "elif C1 == 1 and C2 == 1 and C3 == 1 and C4 == 1 and C5 == 0 and C6 == 1: \n",
        " print(\"se le aplicaran los siguientes descuentos\")\n",
        " print(\"7% computadora, 10% en una impresora, 7% en una television, 15% en barra de sonido\")\n",
        "elif C1 == 1 and C2 == 1 and C3 == 1 and C4 == 1 and C5 == 0 and C6 == 0: \n",
        " print(\"se le aplicaran los siguientes descuentos\")\n",
        " print(\"7% computadora, 10% en una impresora, 7% en una television, 15% en barra de sonido,\")\n",
        "elif C1 == 0 and C2 == 0 and C3 == 0 and C4 == 0 and C5 == 0 and C6 == 0: \n",
        " print(\"se le aplicaran los siguientes descuentos\")\n",
        " print(\"si no va a comprar nada vallase\")\n",
        "elif C1 == 1 and C2 == 0 and C3 == 0 and C4 == 1 and C5 == 1 and C6 == 1: \n",
        " print(\"se le aplicaran los siguientes descuentos\")\n",
        " print(\"7% computadora, 15% en barra de sonido, 10% en consola, 20% en juego\")\n",
        "else:\n",
        "    print(\"hay un error con su orden\")\n",
        "\n"
      ],
      "metadata": {
        "colab": {
          "base_uri": "https://localhost:8080/"
        },
        "id": "Zz3YidBKlOUo",
        "outputId": "9eb530e2-0b54-4058-93e0-628f3cd27dcc"
      },
      "execution_count": null,
      "outputs": [
        {
          "output_type": "stream",
          "name": "stdout",
          "text": [
            "Tienda electronica\n",
            "presione 1 si o presione 0 si no \n",
            "llevara compu1\n",
            "llevara impresora1\n",
            "llevara television1\n",
            "llevara barra de sonicdo1\n",
            "llevara consola1\n",
            "llevara videojuego1\n",
            "se le aplicaran los siguientes descuentos\n",
            "7% computadora, 10% en una impresora, 7% en una television, 15% en barra de sonido, 10% en consola, 20% en juego\n"
          ]
        }
      ]
    },
    {
      "cell_type": "markdown",
      "source": [
        "9.- En una tienda de ropa, los precios de los productos cambian dependiendo de la temporada. Durante la temporada de verano, todos los productos tienen un descuento del 20%. Durante la temporada de invierno, los productos con etiqueta roja tienen un descuento del 30% y los productos con etiqueta verde tienen un descuento del 15%. Durante la temporada de primavera y otoño, los productos con etiqueta amarilla tienen un descuento del 10%. Escribe un programa que calcule el precio a pagar por un cliente, tomando en cuenta los descuentos correspondientes."
      ],
      "metadata": {
        "id": "mKof1QjnlOsR"
      }
    },
    {
      "cell_type": "code",
      "source": [
        "print(\"Tienda de ropa\")\n",
        "print(\"en que epoca estas comprando nuestra ropa precione 1. verano 2. invierno 3. primavera y otoño\")\n",
        "C1 = int(input(\"epoca\"))\n",
        "C2 = int(input(\"precio del producto\"))\n",
        "print(\"que etique ta es, 1. roja 2. verde 3. amarilla\")\n",
        "C3 = int(input(\"etiqueta\"))\n",
        "\n",
        "if C1 == 1  : \n",
        " des = C2*0.2\n",
        " precio = C2-des\n",
        " print(\"El precio es\",precio)\n",
        "\n",
        "elif C1 == 2 and C3 == 1: \n",
        " des = C2*0.3\n",
        " precio = C2-des\n",
        " print(\"El precio es\",precio)\n",
        "elif C1 == 2 and C3 == 2: \n",
        " des = C2*0.15\n",
        " precio = C2-des\n",
        " print(\"El precio es\",precio)\n",
        "elif C1 == 2 and C3 == 3: \n",
        " print(\"El precio es\",C2)\n",
        "elif C1 == 2 and C3 == 4: \n",
        " print(\"El precio es\",C2)\n",
        "\n",
        "elif C1 == 3 and C3 == 3: \n",
        " des = C2*0.10\n",
        " precio = C2-des\n",
        " print(\"El precio es\",precio)\n",
        "elif C1 == 3 and C3 == 1: \n",
        " print(\"El precio es\",C2)\n",
        "elif C1 == 3 and C3 == 2: \n",
        " print(\"El precio es\",C2)\n",
        "\n",
        "\n",
        "else:\n",
        "    print(\"hay un error con su orden\")"
      ],
      "metadata": {
        "colab": {
          "base_uri": "https://localhost:8080/"
        },
        "id": "j34ASHc6lRVh",
        "outputId": "d989e235-3ac7-434f-bd2b-c8da5d550780"
      },
      "execution_count": null,
      "outputs": [
        {
          "output_type": "stream",
          "name": "stdout",
          "text": [
            "Tienda de ropa\n",
            "en que epoca estas cmprando nuestra ropa precione 1. verano 2. invierno 3. primavera y otoño\n",
            "epoca1\n",
            "precio del producto200\n",
            "que etique ta es, 1. roja 2. verde 3. amarilla \n",
            "etiqueta1\n",
            "El precio es 160.0\n"
          ]
        }
      ]
    },
    {
      "cell_type": "markdown",
      "source": [
        "10.- Un restaurante ofrece descuentos a sus clientes, dependiendo del día de la semana y del tipo de menú que pidan. Los lunes, los clientes que pidan el menú del día tienen un descuento del 10%. Los martes, los clientes que pidan el menú infantil tienen un descuento del 20%. Los miércoles, los clientes que pidan el menú vegetariano tienen un descuento del 15%. Los jueves, los clientes que pidan el menú del chef tienen un descuento del 5%. Los viernes, los clientes que pidan el menú del día tienen un descuento del 5%. Los sábados y domingos no hay descuentos. Escribe un programa que calcule el precio a pagar por un cliente, tomando en cuenta los descuentos correspondientes.\n",
        "\n",
        "\n",
        "\n"
      ],
      "metadata": {
        "id": "29fP5FJglRw4"
      }
    },
    {
      "cell_type": "code",
      "source": [],
      "metadata": {
        "id": "MDr04jT3lUjg"
      },
      "execution_count": null,
      "outputs": []
    },
    {
      "cell_type": "code",
      "source": [],
      "metadata": {
        "colab": {
          "base_uri": "https://localhost:8080/",
          "height": 130
        },
        "id": "OMVgiLrNl08f",
        "outputId": "0302777b-0851-48d8-d403-bd9f441b4bfc"
      },
      "execution_count": null,
      "outputs": [
        {
          "output_type": "error",
          "ename": "IndentationError",
          "evalue": "ignored",
          "traceback": [
            "\u001b[0;36m  File \u001b[0;32m\"<tokenize>\"\u001b[0;36m, line \u001b[0;32m18\u001b[0m\n\u001b[0;31m    elif opcion == 2\u001b[0m\n\u001b[0m    ^\u001b[0m\n\u001b[0;31mIndentationError\u001b[0m\u001b[0;31m:\u001b[0m unindent does not match any outer indentation level\n"
          ]
        }
      ]
    }
  ]
}