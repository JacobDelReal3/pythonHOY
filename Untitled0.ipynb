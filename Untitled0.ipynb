{
  "nbformat": 4,
  "nbformat_minor": 0,
  "metadata": {
    "colab": {
      "provenance": [],
      "authorship_tag": "ABX9TyO+hcVfA21AdiSnwMF1wg4i",
      "include_colab_link": true
    },
    "kernelspec": {
      "name": "python3",
      "display_name": "Python 3"
    },
    "language_info": {
      "name": "python"
    }
  },
  "cells": [
    {
      "cell_type": "markdown",
      "metadata": {
        "id": "view-in-github",
        "colab_type": "text"
      },
      "source": [
        "<a href=\"https://colab.research.google.com/github/JacobDelReal3/pythonHOY/blob/main/Untitled0.ipynb\" target=\"_parent\"><img src=\"https://colab.research.google.com/assets/colab-badge.svg\" alt=\"Open In Colab\"/></a>"
      ]
    },
    {
      "cell_type": "code",
      "source": [
        "MI PRIMER PROGRAMA EN PYTHON CON COLABORATORY\n",
        "\n",
        "1. USAR COLABORATORY\n",
        "2. GIT HUB\n",
        "3. LA SENTENCIA DE SALIDAPRINT"
      ],
      "metadata": {
        "id": "4lHeCdwH1T3B"
      },
      "execution_count": null,
      "outputs": []
    },
    {
      "cell_type": "code",
      "source": [
        "print (\"HOLA MUNDO\")"
      ],
      "metadata": {
        "colab": {
          "base_uri": "https://localhost:8080/"
        },
        "id": "4HNaY0Qx1bs5",
        "outputId": "b7439343-84e4-4633-e166-2e1e080b79db"
      },
      "execution_count": 7,
      "outputs": [
        {
          "output_type": "stream",
          "name": "stdout",
          "text": [
            "HOLA MUNDO\n"
          ]
        }
      ]
    },
    {
      "cell_type": "markdown",
      "source": [
        "ESTE ES MI NOMBRE"
      ],
      "metadata": {
        "id": "8dURu9_U17tw"
      }
    },
    {
      "cell_type": "code",
      "source": [
        "print (\"Jacob Eduardo Del Real Ramirez\")"
      ],
      "metadata": {
        "colab": {
          "base_uri": "https://localhost:8080/"
        },
        "id": "oIB4G2RF1_SR",
        "outputId": "96151dae-79a6-46ab-fade-c57ff82f1915"
      },
      "execution_count": 8,
      "outputs": [
        {
          "output_type": "stream",
          "name": "stdout",
          "text": [
            "Jacob Eduardo Del Real Ramirez\n"
          ]
        }
      ]
    }
  ]
}