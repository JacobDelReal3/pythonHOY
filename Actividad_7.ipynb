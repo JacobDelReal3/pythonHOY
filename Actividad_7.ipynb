{
  "nbformat": 4,
  "nbformat_minor": 0,
  "metadata": {
    "colab": {
      "provenance": [],
      "authorship_tag": "ABX9TyO8Pg59F/83RJHgxuI1OrBv",
      "include_colab_link": true
    },
    "kernelspec": {
      "name": "python3",
      "display_name": "Python 3"
    },
    "language_info": {
      "name": "python"
    }
  },
  "cells": [
    {
      "cell_type": "markdown",
      "metadata": {
        "id": "view-in-github",
        "colab_type": "text"
      },
      "source": [
        "<a href=\"https://colab.research.google.com/github/JacobDelReal3/pythonHOY/blob/main/Actividad_7.ipynb\" target=\"_parent\"><img src=\"https://colab.research.google.com/assets/colab-badge.svg\" alt=\"Open In Colab\"/></a>"
      ]
    },
    {
      "cell_type": "code",
      "execution_count": 2,
      "metadata": {
        "id": "gm-XgHo3Zo9D"
      },
      "outputs": [],
      "source": [
        "import random\n",
        "from IPython.display import clear_output"
      ]
    },
    {
      "cell_type": "code",
      "source": [
        "def valinum(msge,msgError2=\"Ingresa un entero\"):\n",
        "    while True:\n",
        "        try:\n",
        "            n = int(input(f\"{msge}\"))\n",
        "        except:\n",
        "            print (msgError2)\n",
        "            continue\n",
        "        else:\n",
        "            break\n",
        "    return n"
      ],
      "metadata": {
        "id": "EMrsfIsxaXZo"
      },
      "execution_count": 1,
      "outputs": []
    },
    {
      "cell_type": "code",
      "source": [
        "def menu():\n",
        "    print(\"MENU:\")\n",
        "    print(\"1.-Lista de mascotas\")\n",
        "    print(\"2.- 2 funciones 10 numeros aleatorios, lista con indice y valor\")\n",
        "    print(\"3.-Suma de las listas\")\n",
        "    print(\"4.-Lista sin repetidos\")\n",
        "    print(\"5.-Lista con su media y mediana\")\n",
        "    print(\"6.-Lista con su media movil\")\n",
        "    print(\"0.-Salir\")"
      ],
      "metadata": {
        "id": "-CynDW1mA7R2"
      },
      "execution_count": 3,
      "outputs": []
    },
    {
      "cell_type": "code",
      "source": [
        "def menu2():\n",
        "    while True:\n",
        "        clear_output()\n",
        "        print(\"MENU2\")\n",
        "        print(\"1.-Lista con numeros aleatorios\")\n",
        "        print(\"2.-lista que y mprime con indice y valor\")\n",
        "        print(\"0.-Salir\")\n",
        "        op = valinum(\"Ingresa la funcion que deseas utilizar: \")\n",
        "        if op == 1:\n",
        "            LISTA_aleatorios()\n",
        "            input(\"Presiona ENTER para borrar la pantalla\")\n",
        "            clear_output()\n",
        "            continue\n",
        "        elif op == 2:\n",
        "            LISTA_indices()\n",
        "            input(\"Presiona ENTER para borrar la pantalla\")\n",
        "            clear_output()\n",
        "        elif op == 0:\n",
        "            clear_output()\n",
        "            break"
      ],
      "metadata": {
        "id": "Pw8yGZFEA7ie"
      },
      "execution_count": 4,
      "outputs": []
    },
    {
      "cell_type": "markdown",
      "source": [
        "1.- Función que utilice una lista con los nombres de tus mascotas, o artistas favoritos, (minimo 5, maximo 10) imprimir las cadenas y la cantidad de caracteres de cada cadena.  \n",
        "\n",
        "EJEMPLO SALIDA:"
      ],
      "metadata": {
        "id": "wJlsYMsFbSBt"
      }
    },
    {
      "cell_type": "code",
      "source": [
        "def LISTA_mascota():\n",
        "    clear_output()\n",
        "    print(\"Lista de mascotas: \")\n",
        "    LISTA_mascota = [\"negro\",\"con botas\",\"khahulu\",\"pelusa\",\"bola de nieve\",\"jacobjr\"]\n",
        "    for i,cadena in enumerate(LISTA_mascota):\n",
        "        print (f\" {[i]}{cadena} ---> {len(cadena)} CARACTERES\")\n",
        "     "
      ],
      "metadata": {
        "id": "B1fQUKCoaZZI"
      },
      "execution_count": 5,
      "outputs": []
    },
    {
      "cell_type": "markdown",
      "source": [
        "2.- Programa que utilice 2 funciones, \n",
        "\n",
        "Función que genere y regrese una lista con 10 números aleatorios entre el 30 y 50 (no repetidos). \n",
        "Función que reciba una lista , Imprimir la lista (Indice y Valor )\n",
        "\n",
        "\n",
        " Mandar llamar la función e imprimir toda la lista. "
      ],
      "metadata": {
        "id": "HklxSw0-bVIr"
      }
    },
    {
      "cell_type": "code",
      "source": [
        "def LISTA_aleatorios():\n",
        "    clear_output()\n",
        "    L_rand = []\n",
        "    while len(L_rand) < 10:\n",
        "        num1 = random.randint(30, 50)\n",
        "        if num1 not in L_rand:\n",
        "            L_rand.append(num1)\n",
        "    print(f\"Lista con aleatorios = {L_rand}\")\n",
        "    return L_rand\n",
        "def LISTA_indices():\n",
        "    clear_output()\n",
        "    print(\"lista con indice y valor\")\n",
        "    lista = []\n",
        "    tamaño = valinum(\"Ingresa el tamaño de la lista:\")\n",
        "    for i in range(tamaño):\n",
        "        num2 = valinum(f\"Ingrese su numero {i}: \")\n",
        "        lista.append(num2)\n",
        "    print(\"Lista con indice y valores: \")\n",
        "    for indice, v in enumerate(lista):\n",
        "        print(f\"[{indice}]: {v}\")"
      ],
      "metadata": {
        "id": "eASsKdwbadwg"
      },
      "execution_count": 6,
      "outputs": []
    },
    {
      "cell_type": "markdown",
      "source": [
        "3.- Escribe una función que reciba dos listas de números del mismo tamaño y calcule la suma de los elementos correspondientes de cada lista. (regresar una nueva lista) . Luego, muestra una lista con los resultados de cada suma. Nota: si las listas no son del mismo tamaño mandar msge y utilizar el tamaño de la lista mas pequeña)"
      ],
      "metadata": {
        "id": "QR1v6Qx2bZ4z"
      }
    },
    {
      "cell_type": "code",
      "source": [
        "from IPython.core.interactiveshell import oinspect\n",
        "def sumlistas():\n",
        "    clear_output()\n",
        "    print(\"Suma de listas\")\n",
        "    def sum_lista(l1,l2):\n",
        "        if len(l1) != len(l2):\n",
        "            print(\"se usara una lista mas pequeña debido a que esta muy grande la lista\")\n",
        "            tamaño = min(len(l1), len(l2))\n",
        "        else:\n",
        "            tamaño = len(l1)\n",
        "        sum_lista = []\n",
        "        for i in range(tamaño):\n",
        "            suma = l1[i] + l2[i]\n",
        "            sum_lista.append(suma)\n",
        "        print(f\"Suma listas = {sum_lista}\")\n",
        "    l1 = []\n",
        "    l2 = []\n",
        "    tamaño1 = valinum(\"Ingresa el tamaño para su lista1: \")\n",
        "    for i in range(tamaño1):\n",
        "        num = valinum(f\"Ingrese su numero:[{i}] \")\n",
        "        l1.append(num)\n",
        "    tamaño2 = valinum(\"Ingresa el tamaño para su lista2: \")\n",
        "    for i in range(tamaño2):\n",
        "        num = valinum(f\"Ingresa un numero[{i}]:\")\n",
        "        l2.append(num)\n",
        "    print(f\"Lista 1 : {l1}\")\n",
        "    print(f\"Lista 2 : {l2}\")\n",
        "    sum_lista(l1,l2)"
      ],
      "metadata": {
        "id": "Ncplm88GagP3"
      },
      "execution_count": 7,
      "outputs": []
    },
    {
      "cell_type": "markdown",
      "source": [
        "4.- Escribe una función llamada eliminar_duplicados que reciba una lista como parámetro y elimine los elementos duplicados. \n",
        "El resultado debe ser una nueva lista sin duplicados. \n",
        "Pide al usuario que ingrese una lista y luego llama a la función eliminar_duplicados para mostrar la lista sin duplicados. (Solo Numeros enteros, validar)"
      ],
      "metadata": {
        "id": "Wr_jwgcceHy8"
      }
    },
    {
      "cell_type": "code",
      "source": [
        "def LISTA_eldupli():\n",
        "    clear_output()\n",
        "    print(\"Eliminar los numeros duplicados de una lista ingresada\")\n",
        "    def eliminar_duplicados(lista):\n",
        "        clear_output()\n",
        "        lista2 = []\n",
        "        for elemento in lista:\n",
        "            if elemento not in lista2:\n",
        "                lista2.append(elemento)\n",
        "        print(f\"primera lista = {lista}\")\n",
        "        print(f\"Nueva lista Corregida = {lista2}\")\n",
        "    lista=[]\n",
        "    tamaño=valinum(\"Ingresa el tamaño para la lista: \")\n",
        "    for i in range(tamaño):\n",
        "        num1 = valinum(f\"[{i}].-Ingresa un numero entero: \")\n",
        "        lista.append(num1)\n",
        "    eliminar_duplicados(lista)"
      ],
      "metadata": {
        "id": "yD0V4yIuakzW"
      },
      "execution_count": 8,
      "outputs": []
    },
    {
      "cell_type": "markdown",
      "source": [
        "5.- Escribe una función que calcule la media y la mediana de una lista de números enteros. \n",
        "\n",
        "La media es la suma de todos los elementos y dividido entre la cantidad de elementos\n",
        "\n",
        "La mediana es el valor que queda en la mitad de la lista cuando se ordena de forma ascendente. Si la lista tiene un número par de elementos, la mediana se calcula como el promedio de los dos valores centrales. Puedes utilizar el método sort() para ordenar la lista y luego calcular la mediana según el tamaño de la lista."
      ],
      "metadata": {
        "id": "ok6k0FOBbp2B"
      }
    },
    {
      "cell_type": "code",
      "source": [
        "def mediaymediana(): \n",
        "    clear_output()\n",
        "    print(\"lista su media y mediana\")   \n",
        "    def mediaymediana2(lista):\n",
        "        tamaño =len(lista)\n",
        "        lista_ordenada = sorted(lista)\n",
        "        media =sum(lista)/tamaño\n",
        "        if tamaño%2 == 0:\n",
        "            mediana=(lista_ordenada[tamaño//2 - 1] + lista_ordenada[tamaño//2]) / 2\n",
        "        else:\n",
        "            mediana=lista_ordenada[tamaño//2]\n",
        "        print(f\"La media de la lista es: {media}\",f\"y La mediana de la lista es: {mediana}\")\n",
        "    lista = []\n",
        "    tamaño2 = valinum(\"Ingrese el tamaño de espacios de su lista: \")\n",
        "    for i in range(tamaño2):\n",
        "        num1 = valinum(f\"[{i}].-Ingrese su numero: \")\n",
        "        lista.append(num1)\n",
        "    print(f\"Lista={lista}\")\n",
        "    mediaymediana2(lista)"
      ],
      "metadata": {
        "id": "0OJDHXGNam4G"
      },
      "execution_count": 9,
      "outputs": []
    },
    {
      "cell_type": "markdown",
      "source": [
        "6.- Escribe una función que calcule la media móvil de una lista de números enteros. La media móvil es el promedio de un número determinado de elementos consecutivos de la lista. Puedes utilizar unciclo y una variable de suma para calcular la media móvil de cada sublista y guardar los resultados en otra lista."
      ],
      "metadata": {
        "id": "SwI226LXeFAC"
      }
    },
    {
      "cell_type": "code",
      "source": [
        "def mediamovil():\n",
        "    clear_output()\n",
        "    print(\"MEDIA MOVIL\")\n",
        "    def media_movil(lista, n):\n",
        "        lista_medias = []\n",
        "        for i in range(len(lista) - n +1):\n",
        "            suma = 0\n",
        "            print(f\"Sublista {i+1}: {lista[i:i+n:]}\")\n",
        "            suma = sum(lista[i:i+n:])\n",
        "            print(f\"Sublista Media movil {i+1}: {suma/n} \")\n",
        "            lista_medias.append(suma / n)\n",
        "        return lista_medias\n",
        "    lista = []\n",
        "    tamaño = valinum(\"Ingresa el tamaño para la lista: \")\n",
        "    for i in range(tamaño):\n",
        "        num = valinum(f\"[{i}].-Ingresa un numero entero: \")\n",
        "        lista.append(num)\n",
        "    n = valinum(\"Ingresa de cuantos elementos consecutivos deseas calcular la media movil: \")\n",
        "    lista_medias = media_movil(lista, n)\n",
        "    print(f\"Lista media movil: {lista_medias}\")\n",
        "     "
      ],
      "metadata": {
        "id": "ZlpXjG9Rao78"
      },
      "execution_count": 10,
      "outputs": []
    },
    {
      "cell_type": "code",
      "source": [
        "while True:\n",
        "    menu()\n",
        "    op = valinum(\"Ingresa la funcion que deseas utilizar: \")\n",
        "    if op == 1:\n",
        "        LISTA_mascota()\n",
        "        input(\"Presiona enter para borrar la pantalla\")\n",
        "        clear_output()\n",
        "        continue\n",
        "    elif op == 2:\n",
        "        menu2()\n",
        "        continue\n",
        "    elif op == 3:\n",
        "        sumlistas()\n",
        "        input(\"Presiona enter para borrar la pantalla\")\n",
        "        clear_output()\n",
        "        continue\n",
        "    elif op == 4:\n",
        "        LISTA_eldupli()\n",
        "        input(\"Presiona enter para borrar la pantalla\")\n",
        "        clear_output()\n",
        "    elif op == 5:\n",
        "        mediaymediana()\n",
        "        input(\"Presiona enter para borrar la pantalla\")\n",
        "        clear_output()\n",
        "    elif op == 6:\n",
        "        mediamovil()\n",
        "        input(\"Presiona enter para borrar la pantalla\")\n",
        "        clear_output()\n",
        "    elif op == 0:\n",
        "        break"
      ],
      "metadata": {
        "colab": {
          "base_uri": "https://localhost:8080/"
        },
        "id": "x5IHUOuxavGs",
        "outputId": "11d986ef-4444-40b9-defa-5550bda4eb57"
      },
      "execution_count": null,
      "outputs": [
        {
          "output_type": "stream",
          "name": "stdout",
          "text": [
            "MEDIA MOVIL\n",
            "Ingresa el tamaño para la lista: 10\n",
            "[0].-Ingresa un numero entero: 1\n",
            "[1].-Ingresa un numero entero: 2\n",
            "[2].-Ingresa un numero entero: 3\n",
            "[3].-Ingresa un numero entero: 4\n",
            "[4].-Ingresa un numero entero: 5\n",
            "[5].-Ingresa un numero entero: 6\n",
            "[6].-Ingresa un numero entero: 7\n",
            "[7].-Ingresa un numero entero: 8\n",
            "[8].-Ingresa un numero entero: 9\n",
            "[9].-Ingresa un numero entero: 10\n",
            "Ingresa de cuantos elementos consecutivos deseas calcular la media movil: 10\n",
            "Sublista 1: [1, 2, 3, 4, 5, 6, 7, 8, 9, 10]\n",
            "Sublista Media movil 1: 5.5 \n",
            "Lista media movil: [5.5]\n"
          ]
        }
      ]
    }
  ]
}