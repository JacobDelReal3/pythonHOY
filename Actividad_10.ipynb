{
  "nbformat": 4,
  "nbformat_minor": 0,
  "metadata": {
    "colab": {
      "provenance": [],
      "authorship_tag": "ABX9TyNpPCPnMoRa5//cxbwqt7Ct",
      "include_colab_link": true
    },
    "kernelspec": {
      "name": "python3",
      "display_name": "Python 3"
    },
    "language_info": {
      "name": "python"
    }
  },
  "cells": [
    {
      "cell_type": "markdown",
      "metadata": {
        "id": "view-in-github",
        "colab_type": "text"
      },
      "source": [
        "<a href=\"https://colab.research.google.com/github/JacobDelReal3/pythonHOY/blob/main/Actividad_10.ipynb\" target=\"_parent\"><img src=\"https://colab.research.google.com/assets/colab-badge.svg\" alt=\"Open In Colab\"/></a>"
      ]
    },
    {
      "cell_type": "code",
      "execution_count": 1,
      "metadata": {
        "id": "C2GGE7AiBZ_4"
      },
      "outputs": [],
      "source": [
        "def valinum_int(msge,ri=0,rf=101,msgError1=\"NUMERO FUERA DEL RANGO\",msgError2=\"INGRESA UN VALOR NUMERICO\"):\n",
        "    while True:\n",
        "        try:\n",
        "            num = int(input(f\"{msge}: \"))\n",
        "        except:\n",
        "            print (msgError2)\n",
        "            continue\n",
        "        if num < ri or num > rf:\n",
        "            print(f\"{msgError1} ({ri} a {rf})\")\n",
        "            continue\n",
        "        else:\n",
        "            break\n",
        "    return num"
      ]
    },
    {
      "cell_type": "code",
      "source": [
        "import random\n",
        "from IPython.display import clear_output"
      ],
      "metadata": {
        "id": "iZ0zr2NNBgBn"
      },
      "execution_count": 4,
      "outputs": []
    },
    {
      "cell_type": "code",
      "source": [
        "#!pip install kora -q\n",
        "#!pip install pyyaml\n",
        "from IPython.display import clear_output\n",
        "import random\n",
        "import json\n",
        "import yaml\n",
        "import pandas as pd"
      ],
      "metadata": {
        "id": "ld7daTJABimD"
      },
      "execution_count": 3,
      "outputs": []
    },
    {
      "cell_type": "code",
      "source": [
        "def menu():\n",
        "    print(\"MENU:\")\n",
        "    print(\"1.- Agregar (automatico)\")\n",
        "    print(\"2.- Agregar (Manual)\")\n",
        "    print(\"3.- Imprimir Lista\")\n",
        "    print(\"4.- Buscar Id\")\n",
        "    print(\"5.- Ordenar Id\")\n",
        "    print(\"6.- eliminar Id\")\n",
        "    print(\"7.- borrar toda la lista Id\")\n",
        "    print(\"0.-SALIR\")"
      ],
      "metadata": {
        "id": "Zq9p4yTZBlki"
      },
      "execution_count": 2,
      "outputs": []
    },
    {
      "cell_type": "code",
      "source": [
        "def agregar_aut(lista1):\n",
        "    clear_output()\n",
        "    registro = [\"ID\",\"Nombre\",\"Ap.Paterno\",\"Ap.Materno\",\"Puesto\",\"Sexo\"]\n",
        "    nombre_h=  [\"pepe\",\"pepito\", \"jose\",\"rodolfo\",\"bob\",\"roberto\",\"pancho\"]\n",
        "    nombre_m=  [\"lulu\",\"petra\",\"jesie\",\"abril\",\"alejandra\",\"andrea\",\"\"]\n",
        "    appaterno= [\"kiliwa\",\"pedorro\",\"villalovos\",\"peña\",\"obrador\",\"lopez\"]\n",
        "    apmaterno= [\"perez\",\"peralta\",\"pacheco\",\"castillo\",\"delcarmen\"]\n",
        "    puesto=    [\"Supervisor\",\"Encargad@\",\"Conserje\",\"Gerente\",\"Guardia\",\"Empleado Gral\",\"Jefe\"]\n",
        "    sexo=      [\"H\",\"M\"]\n",
        "    while True: \n",
        "        lista_datos=[]\n",
        "        repetido = False\n",
        "        while repetido == False:\n",
        "            clear_output()\n",
        "            id = random.randint(300000,400000)\n",
        "            repetido = verificar_id(lista1,id)\n",
        "        lista_datos.append(id)\n",
        "        h_o_m =random.randint(1,2)\n",
        "        if h_o_m == 1:\n",
        "            cant_nom = random.randint(1,2)\n",
        "            if cant_nom == 1:\n",
        "                lista_datos.append(random.choice(nombre_h))\n",
        "            else:\n",
        "                nombre = f\"{random.choice(nombre_h)} {random.choice(nombre_h)}\"\n",
        "                lista_datos.append(nombre)\n",
        "        else:\n",
        "            cant_nom = random.randint(1,2)\n",
        "            if cant_nom == 1:\n",
        "                lista_datos.append(random.choice(nombre_m))\n",
        "            else:\n",
        "                nombre = f\"{random.choice(nombre_m)} {random.choice(nombre_m)}\"\n",
        "                lista_datos.append(nombre)\n",
        "        lista_datos.append(random.choice(appaterno))\n",
        "        lista_datos.append(random.choice(apmaterno))\n",
        "        lista_datos.append(random.choice(puesto))\n",
        "        if h_o_m == 1:\n",
        "            lista_datos.append(sexo[0])\n",
        "        else:\n",
        "            lista_datos.append(sexo[1])\n",
        "        dic = dict(zip(registro,lista_datos))\n",
        "        lista1.append(dic)\n",
        "        print(\"Se agrego correctamente el registro\")\n",
        "        op = valinum_int(\"Deseas agregar otro registro?[1.-Si 2.-No]: \")\n",
        "        if op == 2:\n",
        "            break"
      ],
      "metadata": {
        "id": "kFq_YUscBqRy"
      },
      "execution_count": 5,
      "outputs": []
    },
    {
      "cell_type": "code",
      "source": [
        "def agregar_man(lista1):\n",
        "    clear_output()\n",
        "    registro = [\"ID\",\"Nombre\",\"Ap.Paterno\",\"Ap.Materno\",\"Puesto\",\"Sexo\"]\n",
        "    while True:\n",
        "        repetido = False\n",
        "        lista_datos = []\n",
        "        while repetido == False:\n",
        "            id = valinum_int(\"Ingresa tu ID: \",300000,400000)\n",
        "            repetido = verificar_id(lista1,id)\n",
        "        lista_datos.append(id)\n",
        "        nom = input(\"Ingresa tu Nombre: \")\n",
        "        lista_datos.append(nom)\n",
        "        appat = input(\"Ingresa tu Apellido Paterno: \")\n",
        "        lista_datos.append(appat)\n",
        "        apmat = input(\"Ingresa tu Apellido Materno: \")\n",
        "        lista_datos.append(apmat)\n",
        "        puest = input(\"Ingresa el Puesto que desempeñas: \")\n",
        "        lista_datos.append(puest)\n",
        "        sex = input(\"Ingresa tu Sexo[H o M]: \")\n",
        "        lista_datos.append(sex)\n",
        "        dic = dict(zip(registro,lista_datos))\n",
        "        lista1.append(dic)\n",
        "        print(\"Se agrego correctamente el registro\")\n",
        "        op = valinum_int(\"Deseas agregar otro registro?[1.-Si 2.-No]: \",1,2)\n",
        "        if op == 2:\n",
        "            break"
      ],
      "metadata": {
        "id": "e7OTMQO1Bv1K"
      },
      "execution_count": 6,
      "outputs": []
    },
    {
      "cell_type": "code",
      "source": [
        "def imprimir(lista1,check_ord):\n",
        "    clear_output()\n",
        "    op = random.randint(1,3)\n",
        "    if check_ord == 1:\n",
        "        lista_ord = sorted(lista1, key=lambda x: x[\"ID\"])\n",
        "        if op == 1:\n",
        "            print(yaml.dump(lista_ord,sort_keys=False,default_flow_style=False))\n",
        "        if op == 2:\n",
        "            print(json.dumps(lista_ord, sort_keys=False, indent=2))\n",
        "        if op == 3:\n",
        "            salida=pd.DataFrame(lista_ord)\n",
        "            print(salida)\n",
        "    else:\n",
        "        if op == 1:\n",
        "            print(yaml.dump(lista1,sort_keys=False,default_flow_style=False))\n",
        "        if op == 2:\n",
        "            print(json.dumps(lista1, sort_keys=False, indent=2))\n",
        "        if op == 3:\n",
        "            salida=pd.DataFrame(lista1)\n",
        "            print(salida)"
      ],
      "metadata": {
        "id": "44W_svf-Bwrz"
      },
      "execution_count": 7,
      "outputs": []
    },
    {
      "cell_type": "code",
      "source": [
        "def buscar(lista1):\n",
        "    clear_output()\n",
        "    dic_encontrado = []\n",
        "    encontrado = False\n",
        "    id_busq = valinum_int(\"Ingresa el ID de la persona que buscas: \",300000,400000)\n",
        "    for diccionario in lista1:\n",
        "        if diccionario.get(\"ID\") == id_busq:\n",
        "            print(f\"Se encontro un registro con el ID: {id_busq}\")\n",
        "            dic_encontrado.append(diccionario)\n",
        "            salida=pd.DataFrame(dic_encontrado)\n",
        "            print(salida)\n",
        "            encontrado = True\n",
        "    if not encontrado:\n",
        "        print(f\"No se encontro ningun registro con el ID {id_busq}\")"
      ],
      "metadata": {
        "id": "opBoT424B0vB"
      },
      "execution_count": 8,
      "outputs": []
    },
    {
      "cell_type": "code",
      "source": [
        "def ordenar_dic(lista1,check_ord):\n",
        "    clear_output()\n",
        "    if check_ord == 1:\n",
        "        print(\"La lista ya se encuentra ordenada\")\n",
        "    else:\n",
        "        print(\"Se ordeno la lista\")\n",
        "        return 1"
      ],
      "metadata": {
        "id": "9x8at-w6B2db"
      },
      "execution_count": null,
      "outputs": []
    },
    {
      "cell_type": "code",
      "source": [
        "def eliminar(lista1):\n",
        "    clear_output()\n",
        "    encontrado = False\n",
        "    id_eliminar = valinum_int(\"Ingresa el ID de la persona que deseas eliminar el registro: \")\n",
        "    for i, diccionario in enumerate(lista1):\n",
        "        if diccionario.get(\"ID\") == id_eliminar:\n",
        "            print(f\"Se elimino a la persona con el ID: {id_eliminar}\")\n",
        "            del lista1[i]\n",
        "            encontrado = True\n",
        "    if not encontrado:\n",
        "        print(f\"No se encontro ningun registro con el ID {id_eliminar}\")"
      ],
      "metadata": {
        "id": "MBiJIIiCB4jh"
      },
      "execution_count": 9,
      "outputs": []
    },
    {
      "cell_type": "code",
      "source": [
        "def verificar_id(lista1,id):\n",
        "    for diccionario in lista1:\n",
        "        if diccionario.get(\"ID\") == id:\n",
        "            print(\"Ya existe un registro con ese ID, prueba otro\")\n",
        "            return False\n",
        "    return True"
      ],
      "metadata": {
        "id": "8vNcNm39B6N7"
      },
      "execution_count": 10,
      "outputs": []
    },
    {
      "cell_type": "code",
      "source": [
        "lista1 =[]\n",
        "check_ord = 0\n",
        "while True:\n",
        "    menu()\n",
        "    op = valinum_int(\"Ingresa la funcion que deseas utilizar: \")\n",
        "    if op == 1:\n",
        "        agregar_aut(lista1)\n",
        "        check_ord = 0\n",
        "        input(\"Presiona ENTER para borrar la pantalla\")\n",
        "        clear_output()\n",
        "        continue\n",
        "    elif op == 2:\n",
        "        agregar_man(lista1)\n",
        "        check_ord = 0\n",
        "        input(\"Presiona ENTER para borrar la pantalla\")\n",
        "        clear_output()\n",
        "        continue\n",
        "    elif op == 3:\n",
        "        imprimir(lista1,check_ord)\n",
        "        input(\"Presiona ENTER para borrar la pantalla\")\n",
        "        clear_output()\n",
        "        continue\n",
        "    elif op == 4:\n",
        "        buscar(lista1)\n",
        "        input(\"Presiona ENTER para borrar la pantalla\")\n",
        "        clear_output()\n",
        "        continue\n",
        "    elif op == 5:\n",
        "        check_ord = ordenar_dic(lista1,check_ord)\n",
        "        input(\"Presiona ENTER para borrar la pantalla\")\n",
        "        clear_output()\n",
        "        continue\n",
        "    elif op == 6:\n",
        "        eliminar(lista1)\n",
        "        input(\"Presiona ENTER para borrar la pantalla\")\n",
        "        clear_output()\n",
        "        continue\n",
        "    elif op == 7:\n",
        "        lista1 = []\n",
        "    elif op == 0:\n",
        "        break"
      ],
      "metadata": {
        "colab": {
          "base_uri": "https://localhost:8080/"
        },
        "id": "3eOJy04PB8m5",
        "outputId": "4071a864-ef41-4f07-f6a3-5e9e5865ad61"
      },
      "execution_count": null,
      "outputs": [
        {
          "output_type": "stream",
          "name": "stdout",
          "text": [
            "MENU:\n",
            "1.- Agregar (automatico)\n",
            "2.- Agregar (Manual)\n",
            "3.- Imprimir Lista\n",
            "4.- Buscar Id\n",
            "5.- Ordenar Id\n",
            "6.- eliminar Id\n",
            "7.- borrar toda la lista Id\n",
            "0.-SALIR\n"
          ]
        }
      ]
    }
  ]
}