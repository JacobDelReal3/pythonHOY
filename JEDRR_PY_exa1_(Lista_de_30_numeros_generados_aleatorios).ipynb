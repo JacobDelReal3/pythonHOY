{
  "nbformat": 4,
  "nbformat_minor": 0,
  "metadata": {
    "colab": {
      "provenance": [],
      "authorship_tag": "ABX9TyOulDz5J8q3TF3gdQQoH2dD",
      "include_colab_link": true
    },
    "kernelspec": {
      "name": "python3",
      "display_name": "Python 3"
    },
    "language_info": {
      "name": "python"
    }
  },
  "cells": [
    {
      "cell_type": "markdown",
      "metadata": {
        "id": "view-in-github",
        "colab_type": "text"
      },
      "source": [
        "<a href=\"https://colab.research.google.com/github/JacobDelReal3/pythonHOY/blob/main/JEDRR_PY_exa1_(Lista_de_30_numeros_generados_aleatorios).ipynb\" target=\"_parent\"><img src=\"https://colab.research.google.com/assets/colab-badge.svg\" alt=\"Open In Colab\"/></a>"
      ]
    },
    {
      "cell_type": "markdown",
      "source": [
        "Escribe una funcion de Python en collaboratory que realice lo siguiente:\n",
        "\n",
        "funcion que retorne una lista con 30 numeros generados aleatorios (20-100) no repetidos\n",
        "\n",
        "Escribir codigo que mande llamar la funcion y desplegar el resultado,\n",
        "\n",
        "Escribir enlace a GITHUB a un dcto que se llame INICIALES_PY_exa1"
      ],
      "metadata": {
        "id": "cao2RxSr4HOD"
      }
    },
    {
      "cell_type": "code",
      "source": [
        "import random\n",
        "from IPython.display import clear_output"
      ],
      "metadata": {
        "id": "fiWJWBL-4pZz"
      },
      "execution_count": 2,
      "outputs": []
    },
    {
      "cell_type": "code",
      "execution_count": 49,
      "metadata": {
        "colab": {
          "base_uri": "https://localhost:8080/"
        },
        "id": "0RKIAjHU4DKN",
        "outputId": "0e565756-8dc6-490e-a1b5-6937af13f76c"
      },
      "outputs": [
        {
          "output_type": "stream",
          "name": "stdout",
          "text": [
            "[92, 74, 41, 77, 43, 84, 90, 75, 26, 86, 39, 74, 29, 83, 86, 32, 24, 50, 67, 95, 88, 54, 99, 31, 23, 32, 100, 49, 58, 48]\n"
          ]
        }
      ],
      "source": [
        "num2 = []\n",
        "for i in range(30):\n",
        "            num2.append(random.randint(20, 100))\n",
        "\n",
        "print( num2 )\n"
      ]
    }
  ]
}