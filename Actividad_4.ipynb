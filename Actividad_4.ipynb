{
  "nbformat": 4,
  "nbformat_minor": 0,
  "metadata": {
    "colab": {
      "provenance": [],
      "authorship_tag": "ABX9TyPMS6y7Y6dMwp8uMk2IHmti",
      "include_colab_link": true
    },
    "kernelspec": {
      "name": "python3",
      "display_name": "Python 3"
    },
    "language_info": {
      "name": "python"
    }
  },
  "cells": [
    {
      "cell_type": "markdown",
      "metadata": {
        "id": "view-in-github",
        "colab_type": "text"
      },
      "source": [
        "<a href=\"https://colab.research.google.com/github/JacobDelReal3/pythonHOY/blob/main/Actividad_4.ipynb\" target=\"_parent\"><img src=\"https://colab.research.google.com/assets/colab-badge.svg\" alt=\"Open In Colab\"/></a>"
      ]
    },
    {
      "cell_type": "markdown",
      "source": [
        "1.- Programa en python   que lea 3 calificaciones calcule el promedio del alumno y desplegar: \n",
        "\n",
        "Si prom < 30 Repetir \n",
        "\n",
        "Si prom >=30 y prom <60 extraordinario \n",
        "\n",
        "Si prom >=60 y prom <70 suficiente \n",
        "\n",
        "Si prom >=70 y prom <80 Regular \n",
        "\n",
        "Si prom >=80 y prom <90 bien \n",
        "\n",
        "Si prom >=90 y prom <98 muy bien \n",
        "\n",
        "Si prom >=98 y prom <=100 excelente \n",
        "\n",
        "Si prom >100 Error en promedio \n",
        "\n",
        "Realizar el algoritmo optimizado"
      ],
      "metadata": {
        "id": "DyWCIwbY50uC"
      }
    },
    {
      "cell_type": "code",
      "source": [
        "try:\n",
        "    C1 = int(input(\"primera calificacion \")) \n",
        "    C2 = int(input(\"segunda calificacion \"))\n",
        "    C3 = int(input(\"tercera calificacion \")) \n",
        "    C4 = int(input(\"cuarta calificaion \"))\n",
        "    prom = (C1+C2+C3+C4)/4\n",
        "\n",
        "    if prom >=98:\n",
        "     print(\"muy bien\")\n",
        "    elif prom >=90:\n",
        "      print(\"muy bien\")\n",
        "    elif prom >=80:\n",
        "     print(\"bien\")\n",
        "    elif prom >=70:\n",
        "     print(\"Regular\")\n",
        "    elif prom >=60:\n",
        "     print(\"suficiente\")\n",
        "    elif prom >=30:\n",
        "     print(\"extraordinario\")\n",
        "    elif prom < 30:\n",
        "     print(\"Repetir\")  \n",
        "\n",
        "except:\n",
        "     print(\"QUE PARTE DE NUMEROS NO ENTENDISTE \")"
      ],
      "metadata": {
        "colab": {
          "base_uri": "https://localhost:8080/"
        },
        "id": "87cHpZHl51Vx",
        "outputId": "66af8f03-de5b-4629-d1c2-8720143864b2"
      },
      "execution_count": null,
      "outputs": [
        {
          "output_type": "stream",
          "name": "stdout",
          "text": [
            "primera calificacion 90\n",
            "segunda calificacion 60\n",
            "tercera calificacion 70\n",
            "cuarta calificaion 80\n",
            "Regular\n"
          ]
        }
      ]
    },
    {
      "cell_type": "markdown",
      "source": [
        "2.- Programa en Python que sirva para calcular el salario semanal de un trabajador donde se obtiene como dato de entrada las horas semanales trabajadas, el salario por hora. \n",
        "\n",
        "El programa deberá calcular el salario normal, salario extra y salario total, considerando lo siguiente: \n",
        "\n",
        "Jornada Normal de 40 horas. \n",
        "El salario normal se considera las horas trabajadas menores o igual a la jornada normal\n",
        "Salario extra se considera las horas trabajadas mayores a la jornada normal y se pagan dobles las primeras 9 y triples a partir de la décima hora extra \n",
        "\n",
        "\n",
        "Nota: Desplegar todos los datos (Salario x hora, Horas Trabajadas, Salario normal, Salario extra y Salario Total)"
      ],
      "metadata": {
        "id": "4tgpPl0fDAPD"
      }
    },
    {
      "cell_type": "code",
      "source": [
        "try:\n",
        "    hor = int(input(\"Cuantas horas trabajas al dia \")) \n",
        "    sal = int(input(\"Salario por hora\"))\n",
        "    sal1 = sal*9*5\n",
        "    sal2 = sal*hor*5\n",
        "    sal3 = sal1 - sal2\n",
        "    hor1 = hor * 5\n",
        "    \n",
        "    if hor1 >= 40:\n",
        "        if hor1 >= 45:\n",
        "         hor2 = hor1 - 45\n",
        "         salxtra1 = sal * 2 * 5\n",
        "         salxtra2 = sal * 3 * hor2\n",
        "         salxtratotal = salxtra1 + salxtra2\n",
        "         print(\"su pago sera con horas extras\")\n",
        "         print(\"Salario por hora\",sal)\n",
        "         print(\"horas trabajadas\",hor1)\n",
        "         print(\"pago inicial\",sal1)\n",
        "         print(\"pago extra\",salxtratotal)\n",
        "         print(\"pago total\",salxtratotal+sal)\n",
        "        else:\n",
        "         hor2 = hor1 - 40\n",
        "         salxtra1 = sal * 2 * hor2\n",
        "         print(\"su pago sera con horas extras\")\n",
        "         print(\"Salario por hora\",sal)\n",
        "         print(\"horas trabajadas\",hor1)\n",
        "         print(\"pago inicial\",sal1)\n",
        "         print(\"pago extra\",salxtra1)\n",
        "         print(\"pago total\",salxtra1+sal)\n",
        "    elif hor1 < 40:\n",
        "     print(\"su pago sera en horas normales\")\n",
        "     print(\"Salario por hora\",sal)\n",
        "     print(\"horas trabajadas\",hor1)\n",
        "     print(\"pago total\",sal1)\n",
        "\n",
        "except:\n",
        "     print(\"QUE PARTE DE NUMEROS NO ENTENDISTE \")"
      ],
      "metadata": {
        "id": "lvI3WePhDCsy",
        "colab": {
          "base_uri": "https://localhost:8080/"
        },
        "outputId": "250f6ea0-49b4-4638-9582-c1c997592c73"
      },
      "execution_count": null,
      "outputs": [
        {
          "output_type": "stream",
          "name": "stdout",
          "text": [
            "Cuantas horas trabajas al dia 12\n",
            "Salario por hora400\n",
            "su pago sera con horas extras\n",
            "Salario por hora 400\n",
            "horas trabajadas 60\n",
            "pago inicial 18000\n",
            "pago extra 22000\n",
            "pago total 22400\n"
          ]
        }
      ]
    },
    {
      "cell_type": "markdown",
      "source": [
        "3.- Programa en Python que sirva para calcular el Total a pagar por consumo de agua, donde el dato de entrada son los M3 de agua consumidos, Tomar en cuenta que se cobra escalonada de la Siguiente manera: \n",
        "\n",
        "Rango1: 0 al 4 M3 $50 x facturación sin importar cuánto consumió en este rango \n",
        "\n",
        "Rango2: 5 a 15 M3 $8.00 x M3 \n",
        "\n",
        "Rango3: 16 a 50 M3 $10.00 x M3 \n",
        "\n",
        "Rango4: 51 M3 en adelante $11.00 x M3 \n",
        "\n",
        "Nota: Desplegar SubTotal, Iva(16%), y Total a pagar."
      ],
      "metadata": {
        "id": "wptiXA3-DDEz"
      }
    },
    {
      "cell_type": "code",
      "source": [
        "try: \n",
        "     print(\"Pago de consumo de agua\")\n",
        "     M3 = int(input(\"consumo\"))\n",
        "\n",
        "     if M3 >= 51:\n",
        "      M4    = 11 * M3\n",
        "      Iva   = M4 * 0.16\n",
        "      Total = Iva + M4\n",
        "      print(\"Subtotal\",        M4)\n",
        "      print(\"Iva\",            Iva)\n",
        "      print(\"Total a pagar\",Total)\n",
        "     elif M3 >=16:\n",
        "      M4    = 10 * M3\n",
        "      Iva   = M4 * 0.16\n",
        "      Total = Iva + M4\n",
        "      print(\"Subtotal\",        M4)\n",
        "      print(\"Iva\",            Iva)\n",
        "      print(\"Total a pagar\",Total)\n",
        "     elif M3 >=5:\n",
        "      M4    = 8 * M3\n",
        "      Iva   = M4 * 0.16\n",
        "      Total = Iva + M4\n",
        "      print(\"Subtotal\",        M4)\n",
        "      print(\"Iva\",            Iva)\n",
        "      print(\"Total a pagar\",Total)\n",
        "     elif M3 > 0:\n",
        "      M4    = 50 * M3\n",
        "      Iva   = M4 * 0.16\n",
        "      Total = Iva + M4\n",
        "      print(\"Subtotal\",        M4)\n",
        "      print(\"Iva\",            Iva)\n",
        "      print(\"Total a pagar\",Total)\n",
        "     else:\n",
        "      print(\"ERROR\")  \n",
        "except:\n",
        "     print(\"QUE PARTE DE NUMEROS NO ENTENDISTE \")\n",
        "\n"
      ],
      "metadata": {
        "id": "dufraUJrDGar",
        "colab": {
          "base_uri": "https://localhost:8080/"
        },
        "outputId": "3b3b65ae-a3cb-4c35-cb96-7fde8c9cd7a5"
      },
      "execution_count": null,
      "outputs": [
        {
          "output_type": "stream",
          "name": "stdout",
          "text": [
            "Pago de consumo de agua\n",
            "consumo20\n",
            "Subtotal 200\n",
            "Iva 32.0\n",
            "Total a pagar 232.0\n"
          ]
        }
      ]
    },
    {
      "cell_type": "markdown",
      "source": [
        "4- En la materia de Metodología de la programación se aplican 5 exámenes, calcular el promedio final de la materia donde la calificación menor de los exámenes se anula y el promedio se calcula en base a 4 exámenes.\n",
        "\n",
        "Desplegar el promedio final. y cual es la mas baja que se elimino."
      ],
      "metadata": {
        "id": "z2MhIBltDG_b"
      }
    },
    {
      "cell_type": "code",
      "source": [
        "try:\n",
        "     print(\"Calificaciones de promedio\")\n",
        "     C1 = int(input(\"Calificacion 1\"))\n",
        "     C2 = int(input(\"Calificacion 2\"))\n",
        "     C3 = int(input(\"Calificacion 3\"))\n",
        "     C4 = int(input(\"Calificacion 4\"))\n",
        "     C5 = int(input(\"Calificacion 5\"))\n",
        "     CT1 = (C1+C2+C3+C4+C5)/5\n",
        "     if CT1 >= 60: \n",
        "      print(\"Tu promedio es\", CT1)\n",
        "     else:\n",
        "      CT2 = (C1+C2+C3+C4)/4\n",
        "      print(\"Tu promedio es\", CT2)\n",
        "except:\n",
        "     print(\"QUE PARTE DE NUMEROS NO ENTENDISTE \")\n"
      ],
      "metadata": {
        "id": "imCn62dLDKGc",
        "colab": {
          "base_uri": "https://localhost:8080/"
        },
        "outputId": "ba3c2819-dd3e-483c-d875-c592b2a3d2e7"
      },
      "execution_count": null,
      "outputs": [
        {
          "output_type": "stream",
          "name": "stdout",
          "text": [
            "Calificaciones de promedio\n",
            "Calificacion 190\n",
            "Calificacion 280\n",
            "Calificacion 370\n",
            "Calificacion 490\n",
            "Calificacion 590\n",
            "Tu promedio es 84.0\n"
          ]
        }
      ]
    },
    {
      "cell_type": "markdown",
      "source": [
        "5.- Programa en Python que sirva para el juego del CHINCHAMPU (Piedra, Papel, Tijera) para 1 jugador y la computadora\n",
        "\n"
      ],
      "metadata": {
        "id": "Zt-7efH_DKcD"
      }
    },
    {
      "cell_type": "code",
      "source": [
        "from IPython.core.display import clear_output\n",
        "import random\n",
        "\n",
        "try:\n",
        "      print(\"1.- Piedra 2.- Papel 3.- Tijeras\")\n",
        "      op = int(input(\"elige: \"))\n",
        "      CPU = random.randint(1, 3)\n",
        "      if op == 1:\n",
        "          if CPU == 1:\n",
        "             print(\"escogi piedra, es empate\")\n",
        "          elif CPU == 2:\n",
        "             print(\"escogi papel, perdiste\")\n",
        "          else:\n",
        "              print(\"escogi tijeras, ganaste\")\n",
        "      elif op == 2:\n",
        "          if CPU == 1:\n",
        "            print(\"escogi piedra, ganaste\")\n",
        "          elif CPU == 2:\n",
        "             print(\"escogi papel, es empate\")\n",
        "          else:\n",
        "            print(\"escogi tijeras, perdiste\")\n",
        "      elif op == 3:\n",
        "          if CPU == 1:\n",
        "             print(\"escogi piedra, perdiste\")\n",
        "          elif CPU == 2:\n",
        "             print(\" escogi papel ganaste\")\n",
        "          else:\n",
        "           print(\" escogi tijeras, quedo empate\")\n",
        "except:\n",
        "     print(\"QUE PARTE DE NUMEROS NO ENTENDISTE \")\n",
        "        "
      ],
      "metadata": {
        "id": "Ilv33SJhDM87",
        "colab": {
          "base_uri": "https://localhost:8080/"
        },
        "outputId": "b85e3611-e9c8-46c4-c484-29585dccbc29"
      },
      "execution_count": null,
      "outputs": [
        {
          "output_type": "stream",
          "name": "stdout",
          "text": [
            "1.- Piedra 2.- Papel 3.- Tijeras\n",
            "elige: 1\n",
            "escogi papel, perdiste\n"
          ]
        }
      ]
    },
    {
      "cell_type": "markdown",
      "source": [
        "6.- Programa en Python que lea 4 números enteros desplegar cuales el menor, cual es mayor\n",
        "\n"
      ],
      "metadata": {
        "id": "oJeeIsOhDPdD"
      }
    },
    {
      "cell_type": "code",
      "source": [
        "try:\n",
        "  num1 = int(input(\"primer numero \")) \n",
        "  num2 = int(input(\"segundo numero \"))\n",
        "  num3 = int(input(\"primer numero \")) \n",
        "  num4 = int(input(\"segundo numero \"))\n",
        "  if num1>num2>num3>num4:\n",
        "    print(\"el mayor es \",num1)\n",
        "    print(\"el menor es \",num4)\n",
        "  if num1>num3>num2>num4:\n",
        "    print(\"el mayor es \",num1)\n",
        "    print(\"el menor es \",num4)\n",
        "  elif num1>num2>num4>num3:\n",
        "    print(\"el mayor es \",num1)\n",
        "    print(\"el menor es \",num3)\n",
        "  elif num1>num4>num2>num3:\n",
        "    print(\"el mayor es \",num1)\n",
        "    print(\"el menor es \",num3)\n",
        "  elif num1>num3>num4>num2:\n",
        "    print(\"el mayor es \",num1)\n",
        "    print(\"el menor es \",num2)\n",
        "  elif num1>num4>num3>num2:\n",
        "    print(\"el mayor es \",num1)\n",
        "    print(\"el menor es \",num2)\n",
        "\n",
        "\n",
        "  elif num2>num1>num3>num4:\n",
        "    print(\"el mayor es \",num2)\n",
        "    print(\"el menor es \",num4)\n",
        "  elif num2>num3>num1>num4:\n",
        "    print(\"el mayor es \",num2)\n",
        "    print(\"el menor es \",num4)\n",
        "  elif num2>num4>num3>num1:\n",
        "    print(\"el mayor es \",num2)\n",
        "    print(\"el menor es \",num1)\n",
        "  elif num2>num3>num4>num1:\n",
        "    print(\"el mayor es \",num2)\n",
        "    print(\"el menor es \",num1)\n",
        "  elif num2>num4>num1>num3:\n",
        "    print(\"el mayor es \",num2)\n",
        "    print(\"el menor es \",num3)\n",
        "  elif num2>num1>num4>num3:\n",
        "    print(\"el mayor es \",num2)\n",
        "    print(\"el menor es \",num3)\n",
        "\n",
        "  elif num3>num1>num2>num4:\n",
        "    print(\"el mayor es \",num3)\n",
        "    print(\"el menor es \",num4)\n",
        "  elif num3>num2>num1>num4:\n",
        "    print(\"el mayor es \",num3)\n",
        "    print(\"el menor es \",num4)\n",
        "  elif num3>num4>num2>num1:\n",
        "    print(\"el mayor es \",num3)\n",
        "    print(\"el menor es \",num1)\n",
        "  elif num3>num2>num4>num1:\n",
        "    print(\"el mayor es \",num3)\n",
        "    print(\"el menor es \",num1)\n",
        "  elif num3>num3>num4>num2:\n",
        "    print(\"el mayor es \",num3)\n",
        "    print(\"el menor es \",num2)\n",
        "  elif num3>num4>num3>num2:\n",
        "    print(\"el mayor es \",num3)\n",
        "    print(\"el menor es \",num2)\n",
        "\n",
        "  elif num4>num1>num2>num3:\n",
        "    print(\"el mayor es \",num4)\n",
        "    print(\"el menor es \",num3)\n",
        "  elif num4>num2>num1>num3:\n",
        "    print(\"el mayor es \",num4)\n",
        "    print(\"el menor es \",num3)\n",
        "  elif num4>num3>num2>num1:\n",
        "    print(\"el mayor es \",num4)\n",
        "    print(\"el menor es \",num1)\n",
        "  elif num4>num2>num3>num1:\n",
        "    print(\"el mayor es \",num4)\n",
        "    print(\"el menor es \",num1) \n",
        "  elif num4>num1>num3>num2:\n",
        "    print(\"el mayor es \",num4)\n",
        "    print(\"el menor es \",num2)\n",
        "  elif num4>num2>num1>num2:\n",
        "    print(\"el mayor es \",num4)\n",
        "    print(\"el menor es \",num2)\n",
        "except:\n",
        "     print(\"QUE PARTE DE NUMEROS NO ENTENDISTE \")"
      ],
      "metadata": {
        "id": "3yfVx20UDSG0",
        "colab": {
          "base_uri": "https://localhost:8080/"
        },
        "outputId": "856bbfc9-d164-4c0d-ce35-fc00c66eba7c"
      },
      "execution_count": null,
      "outputs": [
        {
          "output_type": "stream",
          "name": "stdout",
          "text": [
            "primer numero 1\n",
            "segundo numero 2\n",
            "primer numero 3\n",
            "segundo numero 4\n",
            "el mayor es  4\n",
            "el menor es  1\n"
          ]
        }
      ]
    },
    {
      "cell_type": "markdown",
      "source": [
        "7.- Programa en Python que sirva para calcular el área de un triangulo, los datos de entrada deben ser forzosamente de tipo real"
      ],
      "metadata": {
        "id": "UEv4EFAkDShD"
      }
    },
    {
      "cell_type": "code",
      "source": [
        "import math\n",
        "p = math.pi\n",
        "try:\n",
        "    print(\"Area De un Triangulo\",)\n",
        "    base = int(input(\"necesito la base \")) \n",
        "    altura = int(input(\"necesito la altura \")) \n",
        "    area = (base*altura)/2\n",
        "    print(\"el area es igual a\", area)\n",
        "except:\n",
        "     print(\"QUE PARTE DE NUMEROS NO ENTENDISTE \")"
      ],
      "metadata": {
        "id": "yppwvKfXDWCj",
        "colab": {
          "base_uri": "https://localhost:8080/"
        },
        "outputId": "9e1943d3-d6f3-41e3-8e9a-4381de9f234c"
      },
      "execution_count": null,
      "outputs": [
        {
          "output_type": "stream",
          "name": "stdout",
          "text": [
            "Area De un Triangulo\n",
            "necesito la base 30\n",
            "necesito la altura 90\n",
            "el area es igual a 1350.0\n"
          ]
        }
      ]
    },
    {
      "cell_type": "markdown",
      "source": [
        "8.- Programa en Python que sirva para calcular el área de un circulo"
      ],
      "metadata": {
        "id": "TuVU_TgFDWYr"
      }
    },
    {
      "cell_type": "code",
      "source": [
        "import math\n",
        "p = math.pi\n",
        "try:\n",
        "    print(\"Area De un circulo\",)\n",
        "    radio = int(input(\"necesito el radio \")) \n",
        "    radio2 = pow(radio, 2)\n",
        "    area  = p* radio2\n",
        "    print(\"el area es igual a\", area)\n",
        "except:\n",
        "     print(\"QUE PARTE DE NUMEROS NO ENTENDISTE \")\n",
        "\n"
      ],
      "metadata": {
        "id": "ICQ3bgznDXJT",
        "colab": {
          "base_uri": "https://localhost:8080/"
        },
        "outputId": "423d2e8d-8074-48ef-a36b-bea63dc9139a"
      },
      "execution_count": null,
      "outputs": [
        {
          "output_type": "stream",
          "name": "stdout",
          "text": [
            "Area De un circulo\n",
            "necesito el radio 30\n",
            "el area es igual a 2827.4333882308138\n"
          ]
        }
      ]
    }
  ]
}