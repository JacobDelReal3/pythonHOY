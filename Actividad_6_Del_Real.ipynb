{
  "cells": [
    {
      "cell_type": "markdown",
      "metadata": {
        "id": "view-in-github",
        "colab_type": "text"
      },
      "source": [
        "<a href=\"https://colab.research.google.com/github/JacobDelReal3/pythonHOY/blob/main/Actividad_6_Del_Real.ipynb\" target=\"_parent\"><img src=\"https://colab.research.google.com/assets/colab-badge.svg\" alt=\"Open In Colab\"/></a>"
      ]
    },
    {
      "cell_type": "code",
      "execution_count": null,
      "metadata": {
        "id": "hYt0DWCNES_M"
      },
      "outputs": [],
      "source": [
        "import random\n",
        "from IPython.display import clear_output"
      ]
    },
    {
      "cell_type": "code",
      "execution_count": null,
      "metadata": {
        "id": "JLmhqduWGPVX"
      },
      "outputs": [],
      "source": [
        "def menu():\n",
        "    print(\"------------------MENU-----------------\")\n",
        "    print(\"1.-Suma de numeros, media mayor y menor\")\n",
        "    print(\"2.-Numeros pares e impares-------------\")\n",
        "    print(\"3.-Numeros de rango por el usuario-----\")\n",
        "    print(\"4.-Area del trangulo-------------------\")\n",
        "    print(\"5.-Evaluar promedio--------------------\")\n",
        "    print(\"6.-Salir-------------------------------\")"
      ]
    },
    {
      "cell_type": "markdown",
      "metadata": {
        "id": "vpBHoOuJGFXS"
      },
      "source": [
        "1.- FUNCIÓN QUE LEA n CANTIDAD DE NÚMEROS HASTA QUE EL USUARIO LO DESEE, DESPLEGAR LA SUMA DE LOS NÚMEROS, MEDIA Y VALOR DE LOS NÚMEROS MAYORES Y MENORES."
      ]
    },
    {
      "cell_type": "code",
      "execution_count": null,
      "metadata": {
        "id": "7tX2DoSi0z0H"
      },
      "outputs": [],
      "source": [
        "from re import S\n",
        "def numeros_usuar():\n",
        "    def n_numeros(n):\n",
        "        Snum = 0\n",
        "        MAY = 0\n",
        "        MEN =99999\n",
        "        for i in range(n):\n",
        "            Np1 = int(input(f\"Deme su numero ({i+1}).\"))\n",
        "            Snum += Np1\n",
        "            if Np1 < MEN:\n",
        "                MEN = Np1\n",
        "            if Np1 > MAY:\n",
        "                MAY = Np1\n",
        "        print(f\"La suma es {Snum}\")\n",
        "        print(f\"La media {Snum/(1+i)}\")\n",
        "        print(f\"El numero mayor es: {MAY} mientras que el menor es {MEN}\")\n",
        "    msge = \"Cuantos numeros quisieras sumar\"     \n",
        "    n = validar_nums(msge)\n",
        "    n_numeros(n)"
      ]
    },
    {
      "cell_type": "markdown",
      "metadata": {
        "id": "XBoUu19a1A0t"
      },
      "source": [
        "2.- FUNCIÓN QUE GENERE 15 NÚMEROS IMPARES ENTRE 10 Y 60 o MÁXIMO DE 25 NÚMEROS. DESPLEGAR LA MEDIA DE LOS PARES Y MEDIA DE IMPARES."
      ]
    },
    {
      "cell_type": "code",
      "execution_count": null,
      "metadata": {
        "id": "6uYdJYjb1Iaf"
      },
      "outputs": [],
      "source": [
        "def nums():\n",
        "    i = 0\n",
        "    par = 1\n",
        "    impar = 1\n",
        "    par1 = 0\n",
        "    impar1 = 0\n",
        "    while impar <= 15 and i < 25:\n",
        "        NP2 = random.randint(10,60)\n",
        "        print(f\"NUMERO {i+1}: {NP2} \", end = \" \")\n",
        "        if NP2%2 != 0:\n",
        "            print(\"IMPAR\")\n",
        "            impar += 1\n",
        "            impar1 += NP2\n",
        "        else:\n",
        "            print(\"PAR\")\n",
        "            par += 1\n",
        "            par1 += NP2\n",
        "        i +=1\n",
        "    print(f\"La media de los pares es {round(par1/par,2)} y la media en los impares es {round(impar1/impar,2)}\")"
      ]
    },
    {
      "cell_type": "markdown",
      "metadata": {
        "id": "-WO-Wmr-1I5n"
      },
      "source": [
        "3.- FUNCIÓN QUE SIRVA PARA LEER UN RANGO DADO POR EL USUARIO. REPETIR ESTA ACCIÓN HASTA QUE EL USUARIO LO DESEE, DESPLEGAR CANTIDAD DE NUMEROS Y PROMEDIO DE LOS NUMEROS.."
      ]
    },
    {
      "cell_type": "code",
      "execution_count": null,
      "metadata": {
        "id": "-qxw5ptp1KuJ"
      },
      "outputs": [],
      "source": [
        "def validar_numrango():\n",
        "    def validar_num(ri,rf,msge =\"Ingresa un numero entre \",msgError1=\"Numero excedido del rango\",msgError2=\"Ingresa un numero dentro del rango\"):\n",
        "        nums = 0\n",
        "        sumanum = 0\n",
        "        while True:\n",
        "            try:\n",
        "                num = int(input(f\"{msge} {ri} y {rf}: \"))\n",
        "            except:\n",
        "                print (msgError2)\n",
        "                continue\n",
        "            else:\n",
        "                nums +=1\n",
        "                sumanum += num\n",
        "            if num < ri or num > rf:\n",
        "                print(msgError2)\n",
        "                continue\n",
        "            else:\n",
        "                print(\"El numero esta en el rango\")\n",
        "                break\n",
        "        print(f\"la cantidad números son {nums}\")\n",
        "        print(f\"El promedio  es {sumanum/nums}\") \n",
        "    msge = \"comienzo del rango\"\n",
        "    ri = validar_nums(msge)\n",
        "    msge = \"limite del rango \"\n",
        "    rf = validar_nums(msge)\n",
        "    validar_num(ri,rf)\n",
        "    msge1 = \"Dame el rango inicial\"\n",
        "    msge2 = \"Dame el rango final\""
      ]
    },
    {
      "cell_type": "markdown",
      "metadata": {
        "id": "2fQQa85s1LgJ"
      },
      "source": [
        "4.- FUNCIÓN QUE RECIBA COMO PARÁMETRO LOS VALORES PARA EL ÁREA DE UN TRIANGULO Y RETORNE SU RESULTADO"
      ]
    },
    {
      "cell_type": "code",
      "execution_count": null,
      "metadata": {
        "id": "LSAtngJH1PD3"
      },
      "outputs": [],
      "source": [
        "def area_triangulo():\n",
        "    msge = \"Base\"\n",
        "    B1 = validar_nums(msge)\n",
        "    msge = \"Altura\"\n",
        "    A1 = validar_nums(msge)\n",
        "    def area(B1,A1):\n",
        "        area = (B1*A1)/2\n",
        "        print(f\"El area es {area}\") \n",
        "    area(B1,A1)"
      ]
    },
    {
      "cell_type": "markdown",
      "metadata": {
        "id": "oztPCPLH1Pe3"
      },
      "source": [
        "5.- FUNCION QUE SIRVA QUE SIRVA PARA EVALUAR EL PROMEDIO DE 3 CALIFICACIONES DADAS, SI EL USUARIO SU CALIFICACION ES APROBADA MANDAR MSGE QUE DIGA \"felicidades avanzas al siguiente semestre\", SI LA CALIFICACIONE ESTA REPROBADA EL MENSAGE \"repetir materia \" EL ALUMNO TENDRA UN MAXIMO DE CURSAR 3 VESES LA MATERIA, SI LA REPRUEBA 3 VESES MANDAR MSGE \" lastima estas fuera de la UABC\""
      ]
    },
    {
      "cell_type": "code",
      "execution_count": null,
      "metadata": {
        "id": "FpBefxqX1Sng"
      },
      "outputs": [],
      "source": [
        "def evaluar_prom():\n",
        "    sum1 = 0\n",
        "    repe = 0\n",
        "    while True:\n",
        "        try:\n",
        "            print(f\"Su intento {repe+1}\")\n",
        "            for i in range(3):\n",
        "                msge = f\"Calificacion {i+1}\"\n",
        "                calificacion = validar_nums(msge)\n",
        "                sum1 += calificacion\n",
        "                prom=(sum1/3)\n",
        "            if calificacion < 0 or calificacion > 100:\n",
        "                raise ValueError(\"Debe ser un numero mayor a 0 y menor a 100.\")\n",
        "        except ValueError as e:\n",
        "            print(\"ERROR\",e)\n",
        "        else:\n",
        "            print(f\" el promedio es {prom}\")\n",
        "            if prom >= 60:\n",
        "                print(\"Felicidades Aprovaste pasas al siguiente semestre\")\n",
        "                break\n",
        "            if repe == 2:\n",
        "                print(\"Se te acabaron los intentos\")\n",
        "                break\n",
        "            else:\n",
        "                print(\"Reperir la asignatura\")\n",
        "                repe += 1\n",
        "                sum1 = 0\n",
        "                continue"
      ]
    },
    {
      "cell_type": "code",
      "execution_count": null,
      "metadata": {
        "id": "rA-F7oKZVDIb"
      },
      "outputs": [],
      "source": [
        "#Funcion valida num\n",
        "def validar_nums(msge,ri=0,rf=101,msgError1=\"NUMERO FUERA DEL RANGO\",msgError2=\"INGRESA UN VALOR NUMERICO\"):\n",
        "    while True:\n",
        "        try:\n",
        "            num = int(input(f\"{msge}: \"))\n",
        "        except:\n",
        "            print (msgError2)\n",
        "            continue\n",
        "        if num < ri or num > rf:\n",
        "            print(f\"{msgError1} ({ri} a {rf})\")\n",
        "            continue\n",
        "        else:\n",
        "            break\n",
        "    return num"
      ]
    },
    {
      "cell_type": "code",
      "execution_count": null,
      "metadata": {
        "colab": {
          "background_save": true,
          "base_uri": "https://localhost:8080/"
        },
        "id": "GCi4obnrFfur",
        "outputId": "00079538-fa71-4a9c-a5eb-cc0b239d9f63"
      },
      "outputs": [
        {
          "name": "stdout",
          "output_type": "stream",
          "text": [
            "------------------MENU-----------------\n",
            "1.-Suma de numeros, media mayor y menor\n",
            "2.-Numeros pares e impares-------------\n",
            "3.-Numeros de rango por el usuario-----\n",
            "4.-Area del trangulo-------------------\n",
            "5.-Evaluar promedio--------------------\n",
            "6.-Salir-------------------------------\n",
            "Su intento 1\n",
            " el promedio es 73.33333333333333\n",
            "Felicidades Aprovaste pasas al siguiente semestre\n"
          ]
        }
      ],
      "source": [
        "while True:\n",
        "    menu()\n",
        "    op = int(input(\"Ingresa la funcion que deseas utilizar: \"))\n",
        "    if op == 1: \n",
        "        numeros_usuar()\n",
        "        input(\"Presiona enter para reiniciar\")\n",
        "        clear_output()\n",
        "        continue\n",
        "    if op == 2:\n",
        "        nums()\n",
        "        input(\"Presiona enter para reiniciar\")\n",
        "        clear_output()\n",
        "        continue\n",
        "    if op == 3:\n",
        "        validar_numrango()\n",
        "        input(\"Presiona enter para reiniciar\")\n",
        "        clear_output()\n",
        "        continue\n",
        "    if op == 4:\n",
        "        area_triangulo()\n",
        "        input(\"Presiona enter para reiniciar\")\n",
        "        clear_output()\n",
        "        continue\n",
        "    if op == 5:\n",
        "        evaluar_prom()\n",
        "        input(\"Presiona enter para reiniciar\")\n",
        "        clear_output()\n",
        "        continue\n",
        "    if op == 6:\n",
        "        break\n"
      ]
    }
  ],
  "metadata": {
    "colab": {
      "provenance": [],
      "authorship_tag": "ABX9TyOwZPnU/3klCCcWl3Xcvl5o",
      "include_colab_link": true
    },
    "kernelspec": {
      "display_name": "Python 3",
      "name": "python3"
    },
    "language_info": {
      "name": "python"
    }
  },
  "nbformat": 4,
  "nbformat_minor": 0
}