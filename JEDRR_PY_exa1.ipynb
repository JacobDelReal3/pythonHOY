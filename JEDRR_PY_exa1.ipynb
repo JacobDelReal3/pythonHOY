{
  "nbformat": 4,
  "nbformat_minor": 0,
  "metadata": {
    "colab": {
      "provenance": [],
      "authorship_tag": "ABX9TyOWEysobaSUu5UJ4uHUDiHw",
      "include_colab_link": true
    },
    "kernelspec": {
      "name": "python3",
      "display_name": "Python 3"
    },
    "language_info": {
      "name": "python"
    }
  },
  "cells": [
    {
      "cell_type": "markdown",
      "metadata": {
        "id": "view-in-github",
        "colab_type": "text"
      },
      "source": [
        "<a href=\"https://colab.research.google.com/github/JacobDelReal3/pythonHOY/blob/main/JEDRR_PY_exa1.ipynb\" target=\"_parent\"><img src=\"https://colab.research.google.com/assets/colab-badge.svg\" alt=\"Open In Colab\"/></a>"
      ]
    },
    {
      "cell_type": "markdown",
      "source": [
        "Escribe una funcion de Python en collaboratory que realice lo siguiente:\n",
        "\n",
        "funcion que retorne un numero dentro de un rango dado, validar el numero que cumpla el requisito del rango, la funcion debera validar que el programa no marque error por introducir informacion erronea (usar try except)\n",
        "\n",
        "Escribir codigo que mande llamar la funcion y desplegar el resultado,\n",
        "\n",
        "Escribir enlace a GITHUB a un dcto que se llame INICIALES_PY_exa1"
      ],
      "metadata": {
        "id": "-iBcBjC8vaHA"
      }
    },
    {
      "cell_type": "code",
      "source": [
        "import random\n",
        "from IPython.display import clear_output"
      ],
      "metadata": {
        "id": "DrxOLezDxs5k"
      },
      "execution_count": 3,
      "outputs": []
    },
    {
      "cell_type": "code",
      "execution_count": 4,
      "metadata": {
        "id": "Q6odfgckvZU8"
      },
      "outputs": [],
      "source": [
        "\n",
        "def validar_numrango():\n",
        "    def validar_num(ri,rf,msge =\"Ingresa un numero entre \",msgError1=\"Numero excedido del rango\",msgError2=\"Ingresa un numero dentro del rango\"):\n",
        "        nums = 0\n",
        "        sumanum = 0\n",
        "        while True:\n",
        "            try:\n",
        "                num = int(input(f\"{msge} {ri} y {rf}: \"))\n",
        "            except:\n",
        "                print (msgError2)\n",
        "                continue\n",
        "            else:\n",
        "                nums +=1\n",
        "                sumanum += num\n",
        "            if num < ri or num > rf:\n",
        "                print(msgError2)\n",
        "                continue\n",
        "            else:\n",
        "                print(\"El numero esta en el rango\")\n",
        "                break\n",
        "        print(f\"la cantidad números son {nums}\")\n",
        "        print(f\"El promedio  es {sumanum/nums}\") \n",
        "    msge = \"comienzo del rango\"\n",
        "    ri = validar_nums(msge)\n",
        "    msge = \"limite del rango \"\n",
        "    rf = validar_nums(msge)\n",
        "    validar_num(ri,rf)\n",
        "    msge1 = \"Dame el rango inicial\"\n",
        "    msge2 = \"Dame el rango final\""
      ]
    },
    {
      "cell_type": "code",
      "source": [
        "#Funcion valida num\n",
        "def validar_nums(msge,ri=0,rf=101,msgError1=\"NUMERO FUERA DEL RANGO\",msgError2=\"INGRESA UN VALOR NUMERICO\"):\n",
        "    while True:\n",
        "        try:\n",
        "            num = int(input(f\"{msge}: \"))\n",
        "        except:\n",
        "            print (msgError2)\n",
        "            continue\n",
        "        if num < ri or num > rf:\n",
        "            print(f\"{msgError1} ({ri} a {rf})\")\n",
        "            continue\n",
        "        else:\n",
        "            break\n",
        "    return num"
      ],
      "metadata": {
        "id": "R6NXC7ZqyBJG"
      },
      "execution_count": 5,
      "outputs": []
    },
    {
      "cell_type": "code",
      "source": [
        "def menu():\n",
        "    print(\"- Numeros de rango por el usuario \")\n",
        "    print(\"- presione 1 para ejecutar o 2 para salir\")\n",
        "while True:\n",
        "    menu()\n",
        "    op = int(input(\"Ingresa la funcion que deseas utilizar: \"))\n",
        "    if op == 1:\n",
        "        validar_numrango()\n",
        "        input(\"Presiona enter para reiniciar\")\n",
        "        clear_output()\n",
        "        continue\n",
        "    if op == 2:\n",
        "        break"
      ],
      "metadata": {
        "colab": {
          "base_uri": "https://localhost:8080/"
        },
        "id": "mGApntVAyE4m",
        "outputId": "501d8394-e908-411c-cd0c-57586165355f"
      },
      "execution_count": null,
      "outputs": [
        {
          "output_type": "stream",
          "name": "stdout",
          "text": [
            "- Numeros de rango por el usuario \n",
            "- presione 1 para ejecutar o 2 para salir\n",
            "Ingresa la funcion que deseas utilizar: 1\n",
            "comienzo del rango: 1\n",
            "limite del rango : 9\n",
            "Ingresa un numero entre  1 y 9: 7\n",
            "El numero esta en el rango\n",
            "la cantidad números son 1\n",
            "El promedio  es 7.0\n"
          ]
        }
      ]
    }
  ]
}