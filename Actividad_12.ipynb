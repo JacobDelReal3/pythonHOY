{
  "nbformat": 4,
  "nbformat_minor": 0,
  "metadata": {
    "colab": {
      "provenance": [],
      "authorship_tag": "ABX9TyOhbopaZvYSipuy0HC2EKMq",
      "include_colab_link": true
    },
    "kernelspec": {
      "name": "python3",
      "display_name": "Python 3"
    },
    "language_info": {
      "name": "python"
    }
  },
  "cells": [
    {
      "cell_type": "markdown",
      "metadata": {
        "id": "view-in-github",
        "colab_type": "text"
      },
      "source": [
        "<a href=\"https://colab.research.google.com/github/JacobDelReal3/pythonHOY/blob/main/Actividad_12.ipynb\" target=\"_parent\"><img src=\"https://colab.research.google.com/assets/colab-badge.svg\" alt=\"Open In Colab\"/></a>"
      ]
    },
    {
      "cell_type": "code",
      "execution_count": null,
      "metadata": {
        "id": "t1ZTSFfSDEEf"
      },
      "outputs": [],
      "source": [
        "!pip install pyyaml"
      ]
    },
    {
      "cell_type": "code",
      "source": [
        "import json\n",
        "import yaml\n",
        "import sys\n",
        "import os\n",
        "from IPython.display import clear_output\n",
        "import random\n",
        "\n",
        "import pandas as pd\n",
        "from google.colab import drive\n",
        "drive.mount('/content/drive')\n"
      ],
      "metadata": {
        "colab": {
          "base_uri": "https://localhost:8080/"
        },
        "id": "VQbECWeWDJEM",
        "outputId": "0cd8a326-76fb-4620-c6b9-5a07572bb2cf"
      },
      "execution_count": null,
      "outputs": [
        {
          "output_type": "stream",
          "name": "stdout",
          "text": [
            "Drive already mounted at /content/drive; to attempt to forcibly remount, call drive.mount(\"/content/drive\", force_remount=True).\n"
          ]
        }
      ]
    },
    {
      "cell_type": "code",
      "source": [
        "ruta='/content/drive/MyDrive/colab'"
      ],
      "metadata": {
        "id": "G0o1XN2-DVHt"
      },
      "execution_count": null,
      "outputs": []
    },
    {
      "cell_type": "code",
      "source": [
        "import sys\n",
        "sys.path.append(ruta)"
      ],
      "metadata": {
        "id": "tAPQmC2wDXHU"
      },
      "execution_count": null,
      "outputs": []
    },
    {
      "cell_type": "code",
      "source": [
        "def valinum_int(msge,ri=0,rf=9999999,msgError1=\"El numero esta fuera de rango\",msgError2=\"Solo valores numericos\"):\n",
        "    while True:\n",
        "        try:\n",
        "            num = int(input(f\"{msge}: \"))\n",
        "        except:\n",
        "            print (msgError2)\n",
        "            continue\n",
        "        if num < ri or num > rf:\n",
        "            print(f\"{msgError1} ({ri} a {rf})\")\n",
        "            continue\n",
        "        else:\n",
        "            break\n",
        "    return num"
      ],
      "metadata": {
        "id": "rEhE7-6vDZfP"
      },
      "execution_count": null,
      "outputs": []
    },
    {
      "cell_type": "code",
      "source": [
        "def menu():\n",
        "    print(\"MENU:\")\n",
        "    print(\"1.- Agregar (automatico 10)\")\n",
        "    print(\"2.- Eliminar {ID}\")\n",
        "    print(\"3.- Imprimir lista ( tabla) \")\n",
        "    print(\"4.- Buscar {ID} \")\n",
        "    print(\"5.- Buscar {appat} todas las coincidencias\")\n",
        "    print(\"6.- Ordenar {ID}\")\n",
        "    print(\"7.- Generar archivo {ID} (preguntar nombre del archivo)\")\n",
        "    print(\"8.- Cargar archivo {ID}\")\n",
        "    print(\"9.- Imprimir archivo {ID}\")\n",
        "    print(\"10.- Borrar Toda la lista {ID}\")\n",
        "    print(\"0.-SALIR\")\n",
        "     "
      ],
      "metadata": {
        "id": "iQlPlzSqD1ky"
      },
      "execution_count": null,
      "outputs": []
    },
    {
      "cell_type": "code",
      "source": [
        "def agregar_aut(lista_dic):\n",
        "    clear_output()\n",
        "    registro = [\"ID\",\"Nombre\",\"Ap.Paterno\",\"Ap.Materno\",\"Cargo\",\"Sexo\"]\n",
        "    nombres_m= [\"Alexander\",\"Mateo\", \"Santiago\",\"Daniel\",\"Sebastián\",\"Miguel\",\"Leonardo\"]\n",
        "    nombres_f= [\"Sofía\",\"María\",\"Fernanda\",\"Ximena\",\"Regina\",\"Camila\",\"Valeria\"]\n",
        "    apellidos= [\"Hernández\",\"García\",\"Martínez\",\"López\",\"González\",\"Pérez\",\"Rodríguez\",\"Sánchez.\",\"Ramírez\",\"villalobos\",\"martinez\"]\n",
        "    puesto   = [\"Supervisor\",\"Encargad@\",\"Conserje\",\"Gerente\",\"Guardia\",\"Jefe\",\"Empleado Gral\"]\n",
        "    sexo=[\"H\",\"M\"]\n",
        "    for i in range(10):\n",
        "        list_datos=[]\n",
        "        repetido = False\n",
        "        while repetido == False:\n",
        "            clear_output()\n",
        "            id = random.randint(300000,400000)\n",
        "            repetido = verificar_id(lista_dic,id)\n",
        "        list_datos.append(id)\n",
        "        h_o_m =random.randint(1,2)\n",
        "        cant_nom = random.randint(1,2)\n",
        "        if h_o_m == 1:\n",
        "            if cant_nom == 1:\n",
        "                list_datos.append(random.choice(nombres_m))\n",
        "            else:\n",
        "                nombre = f\"{random.choice(nombres_m)} {random.choice(nombres_m)}\"\n",
        "                list_datos.append(nombre)\n",
        "        else:\n",
        "            if cant_nom == 1:\n",
        "                list_datos.append(random.choice(nombres_f))\n",
        "            else:\n",
        "                nombre = f\"{random.choice(nombres_m)} {random.choice(nombres_m)}\"\n",
        "                list_datos.append(nombre)\n",
        "        list_datos.append(random.choice(apellidos))\n",
        "        list_datos.append(random.choice(apellidos))\n",
        "        list_datos.append(random.choice(puesto))\n",
        "        if h_o_m == 1:\n",
        "            list_datos.append(sexo[0])\n",
        "        else:\n",
        "            list_datos.append(sexo[1])\n",
        "        lista_dic.append(dict(zip(registro,list_datos)))"
      ],
      "metadata": {
        "id": "pl0StH3cDcXc"
      },
      "execution_count": null,
      "outputs": []
    },
    {
      "cell_type": "code",
      "source": [
        "def eliminar(lista_dic):\n",
        "    clear_output()\n",
        "    encontrado = False\n",
        "    id_eliminar = valinum_int(\"Introduce el ID a eliminar: \")\n",
        "    for i, diccionario in enumerate(lista_dic):\n",
        "        if diccionario.get(\"ID\") == id_eliminar:\n",
        "            print(f\"El ID ha sido eliminado: {id_eliminar}\")\n",
        "            del lista_dic[i]\n",
        "            encontrado = True\n",
        "    if not encontrado:\n",
        "        print(f\"ID no encontrado {id_eliminar}\")"
      ],
      "metadata": {
        "id": "FnJn_cGdDeuj"
      },
      "execution_count": null,
      "outputs": []
    },
    {
      "cell_type": "code",
      "source": [
        "def verificar_id(lista_dic,id):\n",
        "    for diccionario in lista_dic:\n",
        "        if diccionario.get(\"ID\") == id:\n",
        "            print(\"ID ya existente\")\n",
        "            return False\n",
        "    return True"
      ],
      "metadata": {
        "id": "6BGUMOvMDg3W"
      },
      "execution_count": null,
      "outputs": []
    },
    {
      "cell_type": "code",
      "source": [
        "def imprimir(lista_dic,check_ord):\n",
        "    clear_output()\n",
        "    op = random.randint(1,3)\n",
        "    lista_ord = sorted(lista_dic, key=lambda x: x[\"ID\"])\n",
        "    if check_ord == 1:\n",
        "        salida=pd.DataFrame(lista_ord)\n",
        "        print(salida)\n",
        "    else:\n",
        "        salida=pd.DataFrame(lista_dic)\n",
        "        print(salida)"
      ],
      "metadata": {
        "id": "SRIgmupdDiyd"
      },
      "execution_count": null,
      "outputs": []
    },
    {
      "cell_type": "code",
      "source": [
        "def ordenar_dic(lista_dic,check_ord):\n",
        "    clear_output()\n",
        "    if check_ord == 1:\n",
        "        print(\"La lista esta ordenada\")\n",
        "    else:\n",
        "        print(\"Se ha ordenado la lista\")\n",
        "        return 1"
      ],
      "metadata": {
        "id": "XBFqfBwVDk4z"
      },
      "execution_count": null,
      "outputs": []
    },
    {
      "cell_type": "code",
      "source": [
        "def buscar(lista_dic):\n",
        "    clear_output()\n",
        "    dic_encontrado = []\n",
        "    encontrado = False\n",
        "    id_busq = valinum_int(\"Ingrese su Id para buscar: \",300000,400000)\n",
        "    for diccionario in lista_dic:\n",
        "        if diccionario.get(\"ID\") == id_busq:\n",
        "            print(f\"Su Id ha sido Identificado: {id_busq}\")\n",
        "            dic_encontrado.append(diccionario)\n",
        "            salida=pd.DataFrame(dic_encontrado)\n",
        "            print(salida)\n",
        "            encontrado = True\n",
        "    if not encontrado:\n",
        "        print(f\"No existe su Id {id_busq}\")"
      ],
      "metadata": {
        "id": "ubd8aIbsDn4i"
      },
      "execution_count": null,
      "outputs": []
    },
    {
      "cell_type": "code",
      "source": [
        "def buscar_appat(lista_dic):\n",
        "    clear_output()\n",
        "    dic_encontrado = []\n",
        "    encontrado = False\n",
        "    appat_busq = input(\"Ingrese el apellido \")\n",
        "    for diccionario in lista_dic:\n",
        "        if diccionario.get(\"Ap.Paterno\") == appat_busq:\n",
        "            dic_encontrado.append(diccionario)\n",
        "            encontrado = True\n",
        "    if encontrado == True:\n",
        "        print(f\"Se a identificado el apellido: {appat_busq}\")\n",
        "        salida=pd.DataFrame(dic_encontrado)\n",
        "        print(salida)\n",
        "    if not encontrado:\n",
        "        print(f\"No ha sido identificado el apellido {appat_busq}\")"
      ],
      "metadata": {
        "id": "9Aztvl2LDqU2"
      },
      "execution_count": null,
      "outputs": []
    },
    {
      "cell_type": "code",
      "source": [
        "def generar_archivo(lista_dic):\n",
        "    clear_output()\n",
        "    nombre_archivo = input(\"Ingrese el nombre del archivo: \")\n",
        "    data = pd.DataFrame(lista_dic)\n",
        "    data.to_excel(f'/content/drive/MyDrive/{nombre_archivo}.xlsx', index=False)\n",
        "    data.to_csv(f'/content/drive/MyDrive/{nombre_archivo}.csv', index=False)\n",
        "    data.to_markdown(f'/content/drive/MyDrive/{nombre_archivo}.md', index=False)"
      ],
      "metadata": {
        "id": "HUksj8GoDsJF"
      },
      "execution_count": null,
      "outputs": []
    },
    {
      "cell_type": "code",
      "source": [
        "def cargar_archivo():\n",
        "    clear_output()\n",
        "    path = \"/content/drive/MyDrive/proyecto/holamundo.txt\"\n",
        "    with open(path, \"r\") as f:\n",
        "        contenido = f.read()\n",
        "    print(\"Se Ha cargado el archivo\")\n",
        "    return contenido"
      ],
      "metadata": {
        "id": "a_axQqX0Dwu4"
      },
      "execution_count": null,
      "outputs": []
    },
    {
      "cell_type": "code",
      "source": [
        "def imprimir_archivo(contenido):\n",
        "    clear_output()\n",
        "    print(\"Archivo: \")\n",
        "    print(contenido)"
      ],
      "metadata": {
        "id": "jd1u14BBDzkG"
      },
      "execution_count": null,
      "outputs": []
    },
    {
      "cell_type": "code",
      "source": [
        "lista_dic =[]\n",
        "check_ord = 0\n",
        "while True:\n",
        "    menu()\n",
        "    op = valinum_int(\"Ingrese una funcion: \")\n",
        "    if op == 1:\n",
        "        agregar_aut(lista_dic)\n",
        "        check_ord = 0\n",
        "        print(\"Se han agregaron los registros\")\n",
        "        input(\"Ingrese ENTER para continuar\")\n",
        "        clear_output()\n",
        "        continue\n",
        "    elif op == 2:\n",
        "        eliminar(lista_dic)\n",
        "        input(\"Ingrese ENTER para continuar\")\n",
        "        clear_output()\n",
        "        continue\n",
        "    elif op == 3:\n",
        "        imprimir(lista_dic,check_ord)\n",
        "        input(\"Ingrese ENTER para continuar\")\n",
        "        clear_output()\n",
        "        continue\n",
        "    elif op == 4:\n",
        "        buscar(lista_dic)\n",
        "        input(\"Ingrese ENTER para continuar\")\n",
        "        clear_output()\n",
        "        continue\n",
        "    elif op == 5:\n",
        "        buscar_appat(lista_dic)\n",
        "        input(\"Ingrese ENTER para continuar\")\n",
        "        clear_output()\n",
        "        continue\n",
        "    elif op == 6:\n",
        "        check_ord = ordenar_dic(lista_dic,check_ord)\n",
        "        input(\"Ingrese ENTER para continuar\")\n",
        "        clear_output()\n",
        "        continue\n",
        "    elif op == 7:\n",
        "        generar_archivo(lista_dic)\n",
        "        input(\"Ingrese ENTER para continuar\")\n",
        "        clear_output()\n",
        "        continue\n",
        "    elif op == 8:\n",
        "        contenido_arch = cargar_archivo()\n",
        "        input(\"Ingrese ENTER para continuar\")\n",
        "        clear_output()\n",
        "        continue\n",
        "    elif op == 9:\n",
        "        imprimir_archivo(contenido_arch)\n",
        "        input(\"Ingrese ENTER para continuar\")\n",
        "        clear_output()\n",
        "        continue\n",
        "    elif op == 10:\n",
        "        lista_dic = []\n",
        "    elif op == 0:\n",
        "        break"
      ],
      "metadata": {
        "colab": {
          "base_uri": "https://localhost:8080/"
        },
        "id": "fhC2Aln3D4gF",
        "outputId": "e62eda01-d908-40bc-f565-4eb4e2c1e958"
      },
      "execution_count": null,
      "outputs": [
        {
          "output_type": "stream",
          "name": "stdout",
          "text": [
            "       ID              Nombre Ap.Paterno  Ap.Materno          Cargo Sexo\n",
            "0  316660            Fernanda  Hernández       Pérez     Supervisor    M\n",
            "1  321855           Alexander      Pérez   Hernández     Supervisor    H\n",
            "2  327560  Alexander Santiago      López    Martínez       Conserje    M\n",
            "3  331795   Leonardo Leonardo      López    martinez        Guardia    M\n",
            "4  342443     Mateo Alexander   martinez     Ramírez     Supervisor    H\n",
            "5  346818              Regina   Martínez       López  Empleado Gral    M\n",
            "6  358537               Mateo      López     Ramírez           Jefe    H\n",
            "7  376755      Mateo Leonardo      López  villalobos     Supervisor    H\n",
            "8  389850              Camila      Pérez       López           Jefe    M\n",
            "9  399822             Valeria     García       López           Jefe    M\n"
          ]
        }
      ]
    }
  ]
}