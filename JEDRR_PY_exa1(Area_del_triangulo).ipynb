{
  "nbformat": 4,
  "nbformat_minor": 0,
  "metadata": {
    "colab": {
      "provenance": [],
      "authorship_tag": "ABX9TyNpW5NdQYBRsNCOPMM1vdBK",
      "include_colab_link": true
    },
    "kernelspec": {
      "name": "python3",
      "display_name": "Python 3"
    },
    "language_info": {
      "name": "python"
    }
  },
  "cells": [
    {
      "cell_type": "markdown",
      "metadata": {
        "id": "view-in-github",
        "colab_type": "text"
      },
      "source": [
        "<a href=\"https://colab.research.google.com/github/JacobDelReal3/pythonHOY/blob/main/JEDRR_PY_exa1(Area_del_triangulo).ipynb\" target=\"_parent\"><img src=\"https://colab.research.google.com/assets/colab-badge.svg\" alt=\"Open In Colab\"/></a>"
      ]
    },
    {
      "cell_type": "code",
      "execution_count": 1,
      "metadata": {
        "id": "3pjJ6MPj0_rz"
      },
      "outputs": [],
      "source": [
        "import random\n",
        "from IPython.display import clear_output"
      ]
    },
    {
      "cell_type": "code",
      "source": [
        "#Funcion valida num\n",
        "def validar_nums(msge,ri=0,rf=101,msgError1=\"NUMERO FUERA DEL RANGO\",msgError2=\"INGRESA UN VALOR NUMERICO\"):\n",
        "    while True:\n",
        "        try:\n",
        "            num = int(input(f\"{msge}: \"))\n",
        "        except:\n",
        "            print (msgError2)\n",
        "            continue\n",
        "        if num < ri or num > rf:\n",
        "            print(f\"{msgError1} ({ri} a {rf})\")\n",
        "            continue\n",
        "        else:\n",
        "            break\n",
        "    return num"
      ],
      "metadata": {
        "id": "edST-K801Ev9"
      },
      "execution_count": 2,
      "outputs": []
    },
    {
      "cell_type": "code",
      "source": [
        "\n",
        "def area_triangulo():\n",
        "    msge = \"Base\"\n",
        "    B1 = validar_nums(msge)\n",
        "    msge = \"Altura\"\n",
        "    A1 = validar_nums(msge)\n",
        "    def area(B1,A1):\n",
        "        area = (B1*A1)/2\n",
        "        print(f\"El area es {area}\") \n",
        "    area(B1,A1)"
      ],
      "metadata": {
        "id": "uHq66OJF2cfT"
      },
      "execution_count": 3,
      "outputs": []
    },
    {
      "cell_type": "code",
      "source": [
        "def menu():\n",
        "    print(\"Area del trangulo\")\n",
        "    print(\"Presione 1 para ejecutar o 2 para salir\")\n",
        "while True:\n",
        "    menu()\n",
        "    op = int(input(\"Ingresa la funcion que deseas utilizar: \"))\n",
        "    if op == 1:\n",
        "        area_triangulo()\n",
        "        input(\"Presiona enter para reiniciar\")\n",
        "        clear_output()\n",
        "        continue\n",
        "    if op == 2:\n",
        "        break"
      ],
      "metadata": {
        "colab": {
          "base_uri": "https://localhost:8080/"
        },
        "id": "hbxYWSNz1KpN",
        "outputId": "edcbf07a-5064-4c07-9c6f-3a2eea5945f4"
      },
      "execution_count": 6,
      "outputs": [
        {
          "name": "stdout",
          "output_type": "stream",
          "text": [
            "Area del trangulo\n",
            "Presione 1 para ejecutar o 2 para salir\n",
            "Ingresa la funcion que deseas utilizar: 2\n"
          ]
        }
      ]
    }
  ]
}