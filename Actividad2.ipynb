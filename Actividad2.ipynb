{
  "nbformat": 4,
  "nbformat_minor": 0,
  "metadata": {
    "colab": {
      "provenance": [],
      "authorship_tag": "ABX9TyMyzNawJlAODHzZiGwXgYY8",
      "include_colab_link": true
    },
    "kernelspec": {
      "name": "python3",
      "display_name": "Python 3"
    },
    "language_info": {
      "name": "python"
    }
  },
  "cells": [
    {
      "cell_type": "markdown",
      "metadata": {
        "id": "view-in-github",
        "colab_type": "text"
      },
      "source": [
        "<a href=\"https://colab.research.google.com/github/JacobDelReal3/pythonHOY/blob/main/Actividad2.ipynb\" target=\"_parent\"><img src=\"https://colab.research.google.com/assets/colab-badge.svg\" alt=\"Open In Colab\"/></a>"
      ]
    },
    {
      "cell_type": "markdown",
      "source": [
        "ACTIVIDAD 2\n",
        "ESTRUCTURAS DE CONTROL DE SELECCIÓN SIMPLE\n",
        "\n",
        "INSTRUCCIONES\n",
        "\n",
        "1.- Realiza los ejercicios en COLABORATORY, (USAR SOLO CONDICIONES QUE SE PIDE)\n",
        "\n",
        "2.- Una vez los ejercicios terminados y con los nombres correctos como se deben nombrar, realiza captura de pantalla del codigo y SALIDA PANTALLA, pegar en un archivo de Word \n",
        "\n",
        "3.-convierte el archivo word con todo y portada en archivo PDF\n",
        "\n",
        "4.- Sube a blackboard los ejercios hechos en PYTHON \n",
        "\n",
        "5.- Sube a Blackboard el archivo PDF \n",
        "\n",
        "6.- En el PDF poner enlace al archivo de colab en tu rep[ositorio GIT HUB\n",
        "\n",
        "\n",
        "\n",
        "NOTA: COMO NOMBRAR LOS ARCHIVOS \n",
        "\n",
        "Archivo PDF  INICIALES_MP_ACT#.PDF EJEMPLO PNY_PY_ACT6.PDF\n",
        "\n",
        "Archivo PSEINT INICIALES_ACT#_A01.psc EJEMPLO PNY_PY_A01.py\n",
        "\n",
        "\n",
        "\n",
        "NOTA: La cantidad de archivos a subir seran 1 ( 1 archivo .pdf )  \n",
        "\n"
      ],
      "metadata": {
        "id": "M2Np3aFpDVGW"
      }
    },
    {
      "cell_type": "markdown",
      "source": [
        "ACTIVIDAD 2\n",
        "\n",
        "\n",
        "\n",
        "NOTA: EJERCICIOS ( 1,2,3 y 4 ) PARA SER RESUELTOS USANDO EXCLUSIVAMENTE CONDICIONES SIMPLES "
      ],
      "metadata": {
        "id": "RnMomkG0DjNr"
      }
    },
    {
      "cell_type": "markdown",
      "source": [
        "1.- Programa en Python que lea 2 números enteros, usar una condición y analizar los dos números y desplegar cual de los números es el mayor. 1"
      ],
      "metadata": {
        "id": "5TVVPOGADn72"
      }
    },
    {
      "cell_type": "code",
      "execution_count": 1,
      "metadata": {
        "colab": {
          "base_uri": "https://localhost:8080/"
        },
        "id": "ZjXn0d9LDNXs",
        "outputId": "107db610-f899-4a54-8123-ca45168b2adf"
      },
      "outputs": [
        {
          "output_type": "stream",
          "name": "stdout",
          "text": [
            "primer numero 4\n",
            "segundo numero 5\n",
            "el mayor es  5\n"
          ]
        }
      ],
      "source": [
        "num1 = int(input(\"primer numero \")) \n",
        "num2 = int(input(\"segundo numero \"))\n",
        "if num1>num2:\n",
        "  print(\"el mayor es \",num1)\n",
        "elif num1<num2 :\n",
        "  print(\"el mayor es \",num2)\n",
        " \n"
      ]
    },
    {
      "cell_type": "markdown",
      "source": [
        "2.- Programa en PythonAlgoritmo que lea 4 calificaciones de un alumno, calcular y desplegar el promedio acompañado de la leyenda \"APROBADO\" o \"REPROBADO\"\n",
        "\n"
      ],
      "metadata": {
        "id": "Ffo_64n4YrBk"
      }
    },
    {
      "cell_type": "code",
      "source": [
        "C1 = int(input(\"primera calificacion \")) \n",
        "C2 = int(input(\"segunda calificacion \"))\n",
        "C3 = int(input(\"tercera calificacion \")) \n",
        "C4 = int(input(\"cuarta calificaion \"))\n",
        "calfinal = (C1+C2+C3+C4)/4\n",
        "if calfinal > 59:\n",
        "  print(\"APROVADO\")\n",
        "elif calfinal <=59 :\n",
        "  print(\"REPROVADO\")\n"
      ],
      "metadata": {
        "colab": {
          "base_uri": "https://localhost:8080/"
        },
        "id": "60GimiBkYytr",
        "outputId": "3b4b8fa1-a8fc-427e-843f-5c37b4e8c0c0"
      },
      "execution_count": 2,
      "outputs": [
        {
          "output_type": "stream",
          "name": "stdout",
          "text": [
            "primera calificacion 2\n",
            "segunda calificacion 3\n",
            "tercera calificacion 4\n",
            "cuarta calificaion 5\n",
            "REPROVADO\n"
          ]
        }
      ]
    },
    {
      "cell_type": "markdown",
      "source": [
        "3.- Programa en PythonAlgoritmo que a través de opciones (1.- HOMBRE 2.- MUJER ) preguntar al usuario cual es su sexo y desplegar la leyenda “HOMBRE ”, “MUJER”"
      ],
      "metadata": {
        "id": "wje2F4k5bKH6"
      }
    },
    {
      "cell_type": "code",
      "source": [
        "num1 = int(input(\"1 ERES HOMBRE, 2 ERES MUJER\")) \n",
        "if num1 == 1:\n",
        "  print(\"Hombre\")\n",
        "elif num1 == 2:\n",
        "  print(\"Mujer\")\n"
      ],
      "metadata": {
        "colab": {
          "base_uri": "https://localhost:8080/"
        },
        "id": "yE20UMsQbNNW",
        "outputId": "fdee0ed6-4aad-4efe-e8d3-41e5093dc81b"
      },
      "execution_count": 5,
      "outputs": [
        {
          "output_type": "stream",
          "name": "stdout",
          "text": [
            "1 ERES HOMBRE, 2 ERES MUJER1\n",
            "Hombre\n"
          ]
        }
      ]
    },
    {
      "cell_type": "markdown",
      "source": [
        "4.- Programa en Python que lea un número entero, y desplegar si el número es “PAR” o “IMPAR”"
      ],
      "metadata": {
        "id": "shUkDGmacO6u"
      }
    },
    {
      "cell_type": "code",
      "source": [
        "num1 = int(input(\"dame un numero y te dire si es par o impar\")) \n",
        "if num1 % 2 == 0 :\n",
        "  print(\"es par\")\n",
        "elif num1 % 1 == 0:\n",
        "  print(\"es impar\")\n"
      ],
      "metadata": {
        "id": "45OI_nmNcQYN"
      },
      "execution_count": null,
      "outputs": []
    },
    {
      "cell_type": "markdown",
      "source": [
        "5.- Programa en Python que lea 2 números enteros, usar una condición y analizar los dos números y desplegar cual de los números es el mayor."
      ],
      "metadata": {
        "id": "cVl8ug7shekO"
      }
    },
    {
      "cell_type": "code",
      "source": [
        "num1 = int(input(\"primer numero \")) \n",
        "num2 = int(input(\"segundo numero \"))\n",
        "if num1>num2:\n",
        "  print(\"el mayor es \",num1)\n",
        "elif num1<num2:\n",
        "  print(\"el mayor es \",num2)\n",
        "else:\n",
        "  print(\"son el mismo número \")"
      ],
      "metadata": {
        "id": "Qy0w6gt_hjan"
      },
      "execution_count": null,
      "outputs": []
    },
    {
      "cell_type": "markdown",
      "source": [
        "6.- Programa en Python que lea 4 calificaciones de un alumno, calcular y desplegar el promedio acompañado de la leyenda APROBADO o REPROBADO\n",
        "\n"
      ],
      "metadata": {
        "id": "FjkGmF9Yh7Oj"
      }
    },
    {
      "cell_type": "code",
      "source": [
        "C1 = int(input(\"primera calificacion \")) \n",
        "C2 = int(input(\"segunda calificacion \"))\n",
        "C3 = int(input(\"tercera calificacion \")) \n",
        "C4 = int(input(\"cuarta calificaion \"))\n",
        "calfinal = (C1+C2+C3+C4)/4\n",
        "if calfinal > 59:\n",
        "  print(\"APROVADO\")\n",
        "else:\n",
        "  print(\"REPROVADO\")"
      ],
      "metadata": {
        "id": "_60FFTXch-e0"
      },
      "execution_count": null,
      "outputs": []
    },
    {
      "cell_type": "markdown",
      "source": [
        "7.- Programa en Python que a través de opciones (1.- HOMBRE 2.- MUJER ) preguntar al usuario cual es su sexo y desplegar la leyenda “HOMBRE ”, “MUJER”"
      ],
      "metadata": {
        "id": "7vW-r7LYi-dL"
      }
    },
    {
      "cell_type": "code",
      "source": [
        "num1 = int(input(\"1 ERES HOMBRE, 2 ERES MUJER\")) \n",
        "if num1 == 1:\n",
        "  print(\"Hombre\")\n",
        "elif num1 == 2:\n",
        "  print(\"Mujer\")\n",
        "else:\n",
        "  print(\"eres extraterretre\")"
      ],
      "metadata": {
        "id": "PkYB65AfjGIR"
      },
      "execution_count": null,
      "outputs": []
    },
    {
      "cell_type": "markdown",
      "source": [
        "8.- Programa en Python que lea un número entero, y desplegar si el número es “PAR” o “IMPAR” NOTA: EJERCICIOS PARA SER RESUELTOS USANDO EXCLUSIVAMENTE CONDICIONES COMPUESTO\n"
      ],
      "metadata": {
        "id": "RYSLmnHNjcHa"
      }
    },
    {
      "cell_type": "code",
      "source": [
        "num1 = int(input(\"dame un numero y te dire si es par o impar\")) \n",
        "if num1 % 2 == 0 :\n",
        "  print(\"es par\")\n",
        "else:\n",
        "  print(\"es impar\")\n"
      ],
      "metadata": {
        "colab": {
          "base_uri": "https://localhost:8080/"
        },
        "id": "6FhOh4Dajkm5",
        "outputId": "1991aa47-da7b-4162-a115-730e93c905c9"
      },
      "execution_count": null,
      "outputs": [
        {
          "output_type": "stream",
          "name": "stdout",
          "text": [
            "dame un numero y te dire si es par o impar2\n",
            "es par\n"
          ]
        }
      ]
    }
  ]
}