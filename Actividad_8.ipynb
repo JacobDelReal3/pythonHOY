{
  "nbformat": 4,
  "nbformat_minor": 0,
  "metadata": {
    "colab": {
      "provenance": [],
      "authorship_tag": "ABX9TyOPajNHbi7RzQoqFm2yCrrF",
      "include_colab_link": true
    },
    "kernelspec": {
      "name": "python3",
      "display_name": "Python 3"
    },
    "language_info": {
      "name": "python"
    }
  },
  "cells": [
    {
      "cell_type": "markdown",
      "metadata": {
        "id": "view-in-github",
        "colab_type": "text"
      },
      "source": [
        "<a href=\"https://colab.research.google.com/github/JacobDelReal3/pythonHOY/blob/main/Actividad_8.ipynb\" target=\"_parent\"><img src=\"https://colab.research.google.com/assets/colab-badge.svg\" alt=\"Open In Colab\"/></a>"
      ]
    },
    {
      "cell_type": "code",
      "source": [
        "import random\n",
        "from IPython.display import clear_output"
      ],
      "metadata": {
        "id": "vZqdZoscY4tE"
      },
      "execution_count": 84,
      "outputs": []
    },
    {
      "cell_type": "code",
      "execution_count": 85,
      "metadata": {
        "id": "EMrsfIsxaXZo"
      },
      "outputs": [],
      "source": [
        "def valinum(msge,msgError2=\"Ingrese un numero\"):\n",
        "    while True:\n",
        "        try:\n",
        "            n = int(input(f\"{msge}\"))\n",
        "        except:\n",
        "            print (msgError2)\n",
        "            continue\n",
        "        else:\n",
        "            break\n",
        "    return n"
      ]
    },
    {
      "cell_type": "code",
      "source": [
        "def menu():\n",
        "    print(\"MENU:\")\n",
        "    print(\"1.- Adivinar el numero\")\n",
        "    print(\"2.- Buscar el numero en la lista (tres verciones)\")\n",
        "    print(\"0.-SALIR\")"
      ],
      "metadata": {
        "id": "hXkjlTWTX_Ur"
      },
      "execution_count": 91,
      "outputs": []
    },
    {
      "cell_type": "markdown",
      "source": [
        "1.- Programa en python que genere un número entre el 1 y 10 (no visible)  preguntarle al usuario que número cree que generó la computadora, el usuario tendrá 3 oportunidades de adivinar. \n",
        "Decir si adivino o si falló en sus 3 intentos."
      ],
      "metadata": {
        "id": "yCz5QEIxhtH5"
      }
    },
    {
      "cell_type": "code",
      "source": [
        "def adivinar():\n",
        "    op = 1\n",
        "    win = 0\n",
        "    lose = 0\n",
        "    alenum = random.randint(1,10)\n",
        "    while op != 2:\n",
        "        clear_output() \n",
        "        alenum = random.randint(1,10)\n",
        "        numusuar = valinum(\"Cual numero cres que es?\")\n",
        "        if numusuar == alenum:\n",
        "            print(f\"Haz ganado El numero Hera el elegido\")\n",
        "            win += 1\n",
        "        else:\n",
        "            print(f\"Haz fallado, el numero elegido hera {alenum}\")\n",
        "            lose += 1\n",
        "        if lose == 3:\n",
        "            print(\"Haz perdido tus 3 intentos\")\n",
        "            break\n",
        "        op = valinum(\"Continuar? \\n 1.- si 2.- no\\n:\")\n",
        "    print(f\"Haz ganado por {win} veces\")\n",
        "    print(f\"Haz perdido por {lose} veces\")"
      ],
      "metadata": {
        "id": "6vMLEI49XV_M"
      },
      "execution_count": 116,
      "outputs": []
    },
    {
      "cell_type": "markdown",
      "source": [
        "version A"
      ],
      "metadata": {
        "id": "V2mCaS0mh7SD"
      }
    },
    {
      "cell_type": "code",
      "source": [
        "def VercionA():\n",
        "    lista = []\n",
        "    for i in range(10):\n",
        "        lista.append(0)\n",
        "    i = 1\n",
        "    while True:\n",
        "        pos = random.randint(0,9)\n",
        "        if lista[pos] == 0:\n",
        "            lista[pos] = i\n",
        "            i += 1\n",
        "        else:\n",
        "            continue\n",
        "        if i<= 10:\n",
        "            continue\n",
        "        break\n",
        "    return lista"
      ],
      "metadata": {
        "id": "p8cpXhEvX0RM"
      },
      "execution_count": 124,
      "outputs": []
    },
    {
      "cell_type": "markdown",
      "source": [
        "version B"
      ],
      "metadata": {
        "id": "u7GgTcIdiIVY"
      }
    },
    {
      "cell_type": "code",
      "source": [
        "def VercionB():\n",
        "    lista = []\n",
        "    lista = random.sample(range(1, 11), 10)\n",
        "    return lista"
      ],
      "metadata": {
        "id": "VLUNzl1tX4DM"
      },
      "execution_count": 123,
      "outputs": []
    },
    {
      "cell_type": "markdown",
      "source": [
        "vercion C"
      ],
      "metadata": {
        "id": "aLXO1-jSiNFw"
      }
    },
    {
      "cell_type": "code",
      "source": [
        "def VercionC():\n",
        "    lista = list(range(1,11))\n",
        "    random.shuffle(lista)\n",
        "    return lista"
      ],
      "metadata": {
        "id": "MsOP0m3KX6Fd"
      },
      "execution_count": 122,
      "outputs": []
    },
    {
      "cell_type": "markdown",
      "source": [
        "JUEGO BUSCAR NUMERO"
      ],
      "metadata": {
        "id": "gVu5FccmiYRf"
      }
    },
    {
      "cell_type": "code",
      "source": [
        "def desifrar():\n",
        "    lista = []\n",
        "    op = 1\n",
        "    win = 0\n",
        "    lose = 0\n",
        "    while op != 2:\n",
        "        clear_output() \n",
        "        print(\"Busca el numero en una lista aleatoria\")\n",
        "        print(\"1.-Lista aleatoria (ciclos)\")\n",
        "        print(\"2.-Lista aleatoria (sample)\")\n",
        "        print(\"3.-Lista aleatoria (shuffle)\")\n",
        "        op = valinum(\"Selecciona una opcion para generar la lista: \")\n",
        "        if op == 1:\n",
        "            lista = VercionA()\n",
        "        if op == 2:\n",
        "            lista = VercionB()\n",
        "        if op == 3:\n",
        "            lista = VercionC()\n",
        "        posreal = random.randint(0,9)\n",
        "        numadivinar = lista[posreal]\n",
        "        print(f\"el numero es {numadivinar}, Adivina en el rango del 0 al 9\")\n",
        "        pos = valinum(\"Ingresa la pocision del numero \")\n",
        "        if lista[pos] == numadivinar:\n",
        "            print(\"Haz ganado, el numero es correcto\")\n",
        "            print(\"  \",end=\"\")\n",
        "            for i in range(10):\n",
        "                print(f\" {i}\",end=\" \")\n",
        "            print(\"\\n\",lista)\n",
        "            win += 1\n",
        "        else:\n",
        "            print(f\"Haz perdido, la ubicacion del numero en la lista es {posreal}\")\n",
        "            print(f\"continuar\")\n",
        "            print(\"  \",end=\"\")\n",
        "            for i in range(10):\n",
        "                print(f\" {i}\",end=\" \")\n",
        "            print(\"\\n\",lista)\n",
        "            lose += 1\n",
        "        if lose == 3:\n",
        "            print(\"Haz perdido\")\n",
        "            break\n",
        "        op = valinum(\"Continuar? \\n 1.-SI 2.-NO \\n:\")\n",
        "    print(f\"Ganaste: {win} veces\")\n",
        "    print(f\"Perdiste: {lose} veces\")"
      ],
      "metadata": {
        "id": "f-5_WZEyX8qM"
      },
      "execution_count": 125,
      "outputs": []
    },
    {
      "cell_type": "markdown",
      "source": [
        "Ejecucion del programa (MAIN)"
      ],
      "metadata": {
        "id": "4dvuIjOdicpv"
      }
    },
    {
      "cell_type": "code",
      "source": [
        "while True:\n",
        "    menu()\n",
        "    op = valinum(\"Ingresa la funcion que deseas utilizar: \")\n",
        "    if op == 1:\n",
        "        adivinar()\n",
        "        input(\"Presiona ENTER para borrar la pantalla\")\n",
        "        clear_output()\n",
        "        continue\n",
        "    if op == 2:\n",
        "        desifrar()\n",
        "        input(\"Presiona ENTER para borrar la pantalla\")\n",
        "        clear_output()\n",
        "        continue\n",
        "    elif op == 0:\n",
        "        break"
      ],
      "metadata": {
        "colab": {
          "base_uri": "https://localhost:8080/"
        },
        "id": "LaDBZ606YBSi",
        "outputId": "661a6f46-1b31-49e5-fbc4-4e85e17904d1"
      },
      "execution_count": null,
      "outputs": [
        {
          "output_type": "stream",
          "name": "stdout",
          "text": [
            "MENU:\n",
            "1.-JUEGO ADIVINAR NUMERO\n",
            "2.-JUEGO BUSCAR NUMERO EN UNA LISTA\n",
            "0.-SALIR\n"
          ]
        }
      ]
    }
  ]
}